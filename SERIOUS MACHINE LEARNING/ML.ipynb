{
 "cells": [
  {
   "cell_type": "markdown",
   "id": "dc28eedb-1ede-4260-b138-5c6d30d57458",
   "metadata": {},
   "source": [
    "MODELS ->*generalised(good model)\n",
    "         *underfitting(creating simple model)\n",
    "         *overfitting(R squared training is far greater than R squared testing)"
   ]
  }
 ],
 "metadata": {
  "kernelspec": {
   "display_name": "Python 3 (ipykernel)",
   "language": "python",
   "name": "python3"
  },
  "language_info": {
   "codemirror_mode": {
    "name": "ipython",
    "version": 3
   },
   "file_extension": ".py",
   "mimetype": "text/x-python",
   "name": "python",
   "nbconvert_exporter": "python",
   "pygments_lexer": "ipython3",
   "version": "3.12.4"
  }
 },
 "nbformat": 4,
 "nbformat_minor": 5
}
