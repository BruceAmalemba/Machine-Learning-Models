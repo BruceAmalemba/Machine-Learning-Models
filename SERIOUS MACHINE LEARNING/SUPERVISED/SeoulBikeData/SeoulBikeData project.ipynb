{
 "cells": [
  {
   "cell_type": "code",
   "execution_count": 9,
   "id": "280aa11b-8a12-44d1-856c-5e3b31708cdc",
   "metadata": {},
   "outputs": [
    {
     "name": "stdout",
     "output_type": "stream",
     "text": [
      "           Date  Rented Bike Count  Hour  Temperature(°C)  Humidity(%)  \\\n",
      "0    2017-12-01                254     0             -5.2           37   \n",
      "1    2017-12-01                204     1             -5.5           38   \n",
      "2    2017-12-01                173     2             -6.0           39   \n",
      "3    2017-12-01                107     3             -6.2           40   \n",
      "4    2017-12-01                 78     4             -6.0           36   \n",
      "...         ...                ...   ...              ...          ...   \n",
      "8755 2018-11-30               1003    19              4.2           34   \n",
      "8756 2018-11-30                764    20              3.4           37   \n",
      "8757 2018-11-30                694    21              2.6           39   \n",
      "8758 2018-11-30                712    22              2.1           41   \n",
      "8759 2018-11-30                584    23              1.9           43   \n",
      "\n",
      "      Wind speed (m/s)  Visibility (10m)  Dew point temperature(°C)  \\\n",
      "0                  2.2              2000                      -17.6   \n",
      "1                  0.8              2000                      -17.6   \n",
      "2                  1.0              2000                      -17.7   \n",
      "3                  0.9              2000                      -17.6   \n",
      "4                  2.3              2000                      -18.6   \n",
      "...                ...               ...                        ...   \n",
      "8755               2.6              1894                      -10.3   \n",
      "8756               2.3              2000                       -9.9   \n",
      "8757               0.3              1968                       -9.9   \n",
      "8758               1.0              1859                       -9.8   \n",
      "8759               1.3              1909                       -9.3   \n",
      "\n",
      "      Solar Radiation (MJ/m2)  Rainfall(mm)  Snowfall (cm) Seasons  \\\n",
      "0                         0.0           0.0            0.0  Winter   \n",
      "1                         0.0           0.0            0.0  Winter   \n",
      "2                         0.0           0.0            0.0  Winter   \n",
      "3                         0.0           0.0            0.0  Winter   \n",
      "4                         0.0           0.0            0.0  Winter   \n",
      "...                       ...           ...            ...     ...   \n",
      "8755                      0.0           0.0            0.0  Autumn   \n",
      "8756                      0.0           0.0            0.0  Autumn   \n",
      "8757                      0.0           0.0            0.0  Autumn   \n",
      "8758                      0.0           0.0            0.0  Autumn   \n",
      "8759                      0.0           0.0            0.0  Autumn   \n",
      "\n",
      "         Holiday Functioning Day  \n",
      "0     No Holiday             Yes  \n",
      "1     No Holiday             Yes  \n",
      "2     No Holiday             Yes  \n",
      "3     No Holiday             Yes  \n",
      "4     No Holiday             Yes  \n",
      "...          ...             ...  \n",
      "8755  No Holiday             Yes  \n",
      "8756  No Holiday             Yes  \n",
      "8757  No Holiday             Yes  \n",
      "8758  No Holiday             Yes  \n",
      "8759  No Holiday             Yes  \n",
      "\n",
      "[8760 rows x 14 columns]\n"
     ]
    }
   ],
   "source": [
    "import pandas as pd\n",
    "Bike_data= pd.read_excel(\"C://Users//Bachelor_001//OneDrive//Desktop//PD//SeoulBikeData4.xlsx\")\n",
    "print(Bike_data)"
   ]
  },
  {
   "cell_type": "code",
   "execution_count": 11,
   "id": "f3afde56-ed48-4a4e-b513-8b862f70cdef",
   "metadata": {},
   "outputs": [
    {
     "name": "stdout",
     "output_type": "stream",
     "text": [
      "<class 'pandas.core.frame.DataFrame'>\n",
      "RangeIndex: 8760 entries, 0 to 8759\n",
      "Data columns (total 14 columns):\n",
      " #   Column                     Non-Null Count  Dtype         \n",
      "---  ------                     --------------  -----         \n",
      " 0   Date                       8760 non-null   datetime64[ns]\n",
      " 1   Rented Bike Count          8760 non-null   int64         \n",
      " 2   Hour                       8760 non-null   int64         \n",
      " 3   Temperature(°C)            8760 non-null   float64       \n",
      " 4   Humidity(%)                8760 non-null   int64         \n",
      " 5   Wind speed (m/s)           8760 non-null   float64       \n",
      " 6   Visibility (10m)           8760 non-null   int64         \n",
      " 7   Dew point temperature(°C)  8760 non-null   float64       \n",
      " 8   Solar Radiation (MJ/m2)    8760 non-null   float64       \n",
      " 9   Rainfall(mm)               8760 non-null   float64       \n",
      " 10  Snowfall (cm)              8760 non-null   float64       \n",
      " 11  Seasons                    8760 non-null   object        \n",
      " 12  Holiday                    8760 non-null   object        \n",
      " 13  Functioning Day            8760 non-null   object        \n",
      "dtypes: datetime64[ns](1), float64(6), int64(4), object(3)\n",
      "memory usage: 958.3+ KB\n"
     ]
    }
   ],
   "source": [
    "Bike_data.info()"
   ]
  },
  {
   "cell_type": "code",
   "execution_count": 13,
   "id": "93fadd63-f898-43bf-b62f-2174edc16ec9",
   "metadata": {},
   "outputs": [
    {
     "name": "stdout",
     "output_type": "stream",
     "text": [
      "<class 'pandas.core.series.Series'>\n",
      "RangeIndex: 8760 entries, 0 to 8759\n",
      "Series name: Date\n",
      "Non-Null Count  Dtype         \n",
      "--------------  -----         \n",
      "8760 non-null   datetime64[ns]\n",
      "dtypes: datetime64[ns](1)\n",
      "memory usage: 68.6 KB\n"
     ]
    }
   ],
   "source": [
    "Bike_data['Date'].info()"
   ]
  },
  {
   "cell_type": "code",
   "execution_count": 17,
   "id": "e9718937-03f7-4619-a925-8b60dfec63f4",
   "metadata": {},
   "outputs": [
    {
     "data": {
      "text/plain": [
       "0       0.0\n",
       "1       0.0\n",
       "2       0.0\n",
       "3       0.0\n",
       "4       0.0\n",
       "       ... \n",
       "8755    0.0\n",
       "8756    0.0\n",
       "8757    0.0\n",
       "8758    0.0\n",
       "8759    0.0\n",
       "Name: Snowfall (cm), Length: 8760, dtype: float64"
      ]
     },
     "execution_count": 17,
     "metadata": {},
     "output_type": "execute_result"
    }
   ],
   "source": [
    "Bike_data['Snowfall (cm)']"
   ]
  }
 ],
 "metadata": {
  "kernelspec": {
   "display_name": "Python 3 (ipykernel)",
   "language": "python",
   "name": "python3"
  },
  "language_info": {
   "codemirror_mode": {
    "name": "ipython",
    "version": 3
   },
   "file_extension": ".py",
   "mimetype": "text/x-python",
   "name": "python",
   "nbconvert_exporter": "python",
   "pygments_lexer": "ipython3",
   "version": "3.12.4"
  }
 },
 "nbformat": 4,
 "nbformat_minor": 5
}
