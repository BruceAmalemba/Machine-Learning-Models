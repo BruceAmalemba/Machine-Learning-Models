{
 "cells": [
  {
   "cell_type": "markdown",
   "id": "604173d6-dc88-4a0a-816c-9170fcdfb9a4",
   "metadata": {},
   "source": [
    "# PREDICTING DIABETES RISK\n",
    "     PROBLEM:Identifying individuals at risk of developing diabetes \n",
    "     SOLUTION:Predicting Diabetes based on medical data like glucose levels, BMI, age, and family history.\n",
    "     IMPACT:Helps doctors prioritize patients for early intervention, reducing healthcare costs and doctors getting enough time to control diabetes"
   ]
  },
  {
   "cell_type": "markdown",
   "id": "ace69c4c-b144-4e86-a0f8-5458e05abea1",
   "metadata": {},
   "source": [
    "## importing the packages"
   ]
  },
  {
   "cell_type": "code",
   "execution_count": 56,
   "id": "2a7ed8c9-d8bd-4899-9425-cee3f2956c22",
   "metadata": {},
   "outputs": [],
   "source": [
    "import pandas as pd \n",
    "import numpy as np \n",
    "from matplotlib import pyplot as pyp \n"
   ]
  },
  {
   "cell_type": "markdown",
   "id": "3525c049-2b1e-4e6f-b549-e29e1ed92e7c",
   "metadata": {},
   "source": [
    "## importing the health data"
   ]
  },
  {
   "cell_type": "code",
   "execution_count": 58,
   "id": "49304e43-3f15-4f6e-ac49-37133779b202",
   "metadata": {},
   "outputs": [
    {
     "data": {
      "text/html": [
       "<div>\n",
       "<style scoped>\n",
       "    .dataframe tbody tr th:only-of-type {\n",
       "        vertical-align: middle;\n",
       "    }\n",
       "\n",
       "    .dataframe tbody tr th {\n",
       "        vertical-align: top;\n",
       "    }\n",
       "\n",
       "    .dataframe thead th {\n",
       "        text-align: right;\n",
       "    }\n",
       "</style>\n",
       "<table border=\"1\" class=\"dataframe\">\n",
       "  <thead>\n",
       "    <tr style=\"text-align: right;\">\n",
       "      <th></th>\n",
       "      <th>Pregnancies</th>\n",
       "      <th>Glucose</th>\n",
       "      <th>BloodPressure</th>\n",
       "      <th>SkinThickness</th>\n",
       "      <th>Insulin</th>\n",
       "      <th>BMI</th>\n",
       "      <th>DiabetesPedigreeFunction</th>\n",
       "      <th>Age</th>\n",
       "      <th>Outcome</th>\n",
       "    </tr>\n",
       "  </thead>\n",
       "  <tbody>\n",
       "    <tr>\n",
       "      <th>0</th>\n",
       "      <td>6</td>\n",
       "      <td>148</td>\n",
       "      <td>72</td>\n",
       "      <td>35</td>\n",
       "      <td>0</td>\n",
       "      <td>33.6</td>\n",
       "      <td>0.627</td>\n",
       "      <td>50</td>\n",
       "      <td>1</td>\n",
       "    </tr>\n",
       "    <tr>\n",
       "      <th>1</th>\n",
       "      <td>1</td>\n",
       "      <td>85</td>\n",
       "      <td>66</td>\n",
       "      <td>29</td>\n",
       "      <td>0</td>\n",
       "      <td>26.6</td>\n",
       "      <td>0.351</td>\n",
       "      <td>31</td>\n",
       "      <td>0</td>\n",
       "    </tr>\n",
       "    <tr>\n",
       "      <th>2</th>\n",
       "      <td>8</td>\n",
       "      <td>183</td>\n",
       "      <td>64</td>\n",
       "      <td>0</td>\n",
       "      <td>0</td>\n",
       "      <td>23.3</td>\n",
       "      <td>0.672</td>\n",
       "      <td>32</td>\n",
       "      <td>1</td>\n",
       "    </tr>\n",
       "    <tr>\n",
       "      <th>3</th>\n",
       "      <td>1</td>\n",
       "      <td>89</td>\n",
       "      <td>66</td>\n",
       "      <td>23</td>\n",
       "      <td>94</td>\n",
       "      <td>28.1</td>\n",
       "      <td>0.167</td>\n",
       "      <td>21</td>\n",
       "      <td>0</td>\n",
       "    </tr>\n",
       "    <tr>\n",
       "      <th>4</th>\n",
       "      <td>0</td>\n",
       "      <td>137</td>\n",
       "      <td>40</td>\n",
       "      <td>35</td>\n",
       "      <td>168</td>\n",
       "      <td>43.1</td>\n",
       "      <td>2.288</td>\n",
       "      <td>33</td>\n",
       "      <td>1</td>\n",
       "    </tr>\n",
       "  </tbody>\n",
       "</table>\n",
       "</div>"
      ],
      "text/plain": [
       "   Pregnancies  Glucose  BloodPressure  SkinThickness  Insulin   BMI  \\\n",
       "0            6      148             72             35        0  33.6   \n",
       "1            1       85             66             29        0  26.6   \n",
       "2            8      183             64              0        0  23.3   \n",
       "3            1       89             66             23       94  28.1   \n",
       "4            0      137             40             35      168  43.1   \n",
       "\n",
       "   DiabetesPedigreeFunction  Age  Outcome  \n",
       "0                     0.627   50        1  \n",
       "1                     0.351   31        0  \n",
       "2                     0.672   32        1  \n",
       "3                     0.167   21        0  \n",
       "4                     2.288   33        1  "
      ]
     },
     "execution_count": 58,
     "metadata": {},
     "output_type": "execute_result"
    }
   ],
   "source": [
    "Health_data=pd.read_csv(\"C:/Users/Bachelor_001/OneDrive/Desktop/PD/diabetes.csv\")\n",
    "pd.set_option(\"display.max_rows\",None)\n",
    "Health_data.head()"
   ]
  },
  {
   "cell_type": "markdown",
   "id": "fe951212-7733-4a1b-9a7a-9cf6e6fb6c46",
   "metadata": {},
   "source": [
    "## investigating my data"
   ]
  },
  {
   "cell_type": "code",
   "execution_count": 60,
   "id": "97de46ef-a3f7-47b9-8103-87236de19294",
   "metadata": {},
   "outputs": [
    {
     "name": "stdout",
     "output_type": "stream",
     "text": [
      "<class 'pandas.core.frame.DataFrame'>\n",
      "RangeIndex: 768 entries, 0 to 767\n",
      "Data columns (total 9 columns):\n",
      " #   Column                    Non-Null Count  Dtype  \n",
      "---  ------                    --------------  -----  \n",
      " 0   Pregnancies               768 non-null    int64  \n",
      " 1   Glucose                   768 non-null    int64  \n",
      " 2   BloodPressure             768 non-null    int64  \n",
      " 3   SkinThickness             768 non-null    int64  \n",
      " 4   Insulin                   768 non-null    int64  \n",
      " 5   BMI                       768 non-null    float64\n",
      " 6   DiabetesPedigreeFunction  768 non-null    float64\n",
      " 7   Age                       768 non-null    int64  \n",
      " 8   Outcome                   768 non-null    int64  \n",
      "dtypes: float64(2), int64(7)\n",
      "memory usage: 54.1 KB\n"
     ]
    },
    {
     "data": {
      "text/plain": [
       "Pregnancies                 0\n",
       "Glucose                     0\n",
       "BloodPressure               0\n",
       "SkinThickness               0\n",
       "Insulin                     0\n",
       "BMI                         0\n",
       "DiabetesPedigreeFunction    0\n",
       "Age                         0\n",
       "Outcome                     0\n",
       "dtype: int64"
      ]
     },
     "execution_count": 60,
     "metadata": {},
     "output_type": "execute_result"
    }
   ],
   "source": [
    "Health_data.info()\n",
    "Health_data.isna().sum()\n"
   ]
  },
  {
   "cell_type": "markdown",
   "id": "5bf8e374-b70d-4e9f-8fad-7a03db22fea4",
   "metadata": {},
   "source": [
    "No missing values in the data"
   ]
  },
  {
   "cell_type": "code",
   "execution_count": 62,
   "id": "b80381a0-c7a8-4270-831c-2b0625acd60a",
   "metadata": {},
   "outputs": [
    {
     "data": {
      "text/plain": [
       "Index(['Pregnancies', 'Glucose', 'BloodPressure', 'SkinThickness', 'Insulin',\n",
       "       'BMI', 'DiabetesPedigreeFunction', 'Age', 'Outcome'],\n",
       "      dtype='object')"
      ]
     },
     "execution_count": 62,
     "metadata": {},
     "output_type": "execute_result"
    }
   ],
   "source": [
    "Health_data.columns\n"
   ]
  },
  {
   "cell_type": "markdown",
   "id": "cb4f45b9-a39d-43d3-b421-0ec04bcf0554",
   "metadata": {},
   "source": [
    "## Investigating Pregnancies"
   ]
  },
  {
   "cell_type": "code",
   "execution_count": 64,
   "id": "f6e606eb-e4c0-40d6-98df-de6fc6f0d898",
   "metadata": {},
   "outputs": [
    {
     "name": "stdout",
     "output_type": "stream",
     "text": [
      "<class 'pandas.core.series.Series'>\n",
      "RangeIndex: 768 entries, 0 to 767\n",
      "Series name: Pregnancies\n",
      "Non-Null Count  Dtype\n",
      "--------------  -----\n",
      "768 non-null    int64\n",
      "dtypes: int64(1)\n",
      "memory usage: 6.1 KB\n"
     ]
    },
    {
     "data": {
      "text/plain": [
       "array([ 6,  1,  8,  0,  5,  3, 10,  2,  4,  7,  9, 11, 13, 15, 17, 12, 14],\n",
       "      dtype=int64)"
      ]
     },
     "execution_count": 64,
     "metadata": {},
     "output_type": "execute_result"
    }
   ],
   "source": [
    "Health_data['Pregnancies'].info()\n",
    "Health_data['Pregnancies'].head()\n",
    "Health_data['Pregnancies'].unique()\n"
   ]
  },
  {
   "cell_type": "code",
   "execution_count": 66,
   "id": "21e1ea0f-0636-4733-822b-75f00cbc1ac0",
   "metadata": {},
   "outputs": [
    {
     "data": {
      "image/png": "[encoded data removed]",
      "text/plain": [
       "<Figure size 640x480 with 1 Axes>"
      ]
     },
     "metadata": {},
     "output_type": "display_data"
    }
   ],
   "source": [
    "Health_data.boxplot(column='Pregnancies')\n",
    "pyp.show()"
   ]
  },
  {
   "cell_type": "code",
   "execution_count": 68,
   "id": "7968d684-db0b-489e-beef-33caa65c0559",
   "metadata": {},
   "outputs": [
    {
     "data": {
      "image/png": "[encoded data removed]",
      "text/plain": [
       "<Figure size 640x480 with 1 Axes>"
      ]
     },
     "metadata": {},
     "output_type": "display_data"
    }
   ],
   "source": [
    "Health_data['Pregnancies'].hist(bins=20)\n",
    "pyp.show()"
   ]
  },
  {
   "cell_type": "markdown",
   "id": "9989ce31-d073-4696-8542-1a9327b7f8d9",
   "metadata": {},
   "source": [
    "## Dealing with Outliers"
   ]
  },
  {
   "cell_type": "code",
   "execution_count": 156,
   "id": "7e4f9ba3-d1de-4f30-8eb5-f4fe08554fd7",
   "metadata": {},
   "outputs": [
    {
     "name": "stderr",
     "output_type": "stream",
     "text": [
      "C:\\Users\\Bachelor_001\\anaconda3\\Lib\\site-packages\\pandas\\core\\arraylike.py:399: RuntimeWarning: divide by zero encountered in log\n",
      "  result = getattr(ufunc, method)(*inputs, **kwargs)\n"
     ]
    }
   ],
   "source": [
    "Health_data['Pregnancies']=np.log(Health_data['Pregnancies'])"
   ]
  },
  {
   "cell_type": "code",
   "execution_count": 158,
   "id": "947810a3-9971-4945-bc97-dcca7e3fa204",
   "metadata": {},
   "outputs": [
    {
     "data": {
      "image/png": "[encoded data removed]",
      "text/plain": [
       "<Figure size 640x480 with 1 Axes>"
      ]
     },
     "metadata": {},
     "output_type": "display_data"
    }
   ],
   "source": [
    "Health_data.boxplot(column='Pregnancies')\n",
    "pyp.show()"
   ]
  },
  {
   "cell_type": "markdown",
   "id": "c851efaa-032c-41d6-b410-219837b7af1a",
   "metadata": {},
   "source": [
    "## investigating Glucose"
   ]
  },
  {
   "cell_type": "code",
   "execution_count": 72,
   "id": "2c533d70-9a07-444a-9f83-daf3dfd3435f",
   "metadata": {},
   "outputs": [
    {
     "name": "stdout",
     "output_type": "stream",
     "text": [
      "<class 'pandas.core.series.Series'>\n",
      "RangeIndex: 768 entries, 0 to 767\n",
      "Series name: Glucose\n",
      "Non-Null Count  Dtype\n",
      "--------------  -----\n",
      "768 non-null    int64\n",
      "dtypes: int64(1)\n",
      "memory usage: 6.1 KB\n"
     ]
    },
    {
     "data": {
      "image/png": "[encoded data removed]",
      "text/plain": [
       "<Figure size 640x480 with 1 Axes>"
      ]
     },
     "metadata": {},
     "output_type": "display_data"
    }
   ],
   "source": [
    "Health_data['Glucose'].info()\n",
    "Health_data['Glucose'].unique()\n",
    "(Health_data['Glucose']==0).sum()\n",
    "Health_data.boxplot(column='Glucose')\n",
    "pyp.show()"
   ]
  },
  {
   "cell_type": "code",
   "execution_count": null,
   "id": "48f06c29-91ec-4d4a-9541-8acc8c168cb0",
   "metadata": {},
   "outputs": [],
   "source": []
  },
  {
   "cell_type": "markdown",
   "id": "180c564c-4277-4ead-9614-d4413968303e",
   "metadata": {},
   "source": [
    "Glucose has one outlier"
   ]
  },
  {
   "cell_type": "code",
   "execution_count": 160,
   "id": "b3cb8f58-de6a-474c-8a0e-d7f7069aff9a",
   "metadata": {},
   "outputs": [],
   "source": []
  },
  {
   "cell_type": "code",
   "execution_count": 74,
   "id": "bbbe2e1c-8487-4120-a458-bbe1f7b5d30a",
   "metadata": {},
   "outputs": [
    {
     "data": {
      "image/png": "[encoded data removed]",
      "text/plain": [
       "<Figure size 640x480 with 1 Axes>"
      ]
     },
     "metadata": {},
     "output_type": "display_data"
    }
   ],
   "source": [
    "Health_data['Glucose'].hist(bins=20)\n",
    "pyp.show()"
   ]
  },
  {
   "cell_type": "markdown",
   "id": "28a7c6f6-b51e-4886-899e-7714dcabbf9e",
   "metadata": {},
   "source": [
    "positively skewed distribution"
   ]
  },
  {
   "cell_type": "code",
   "execution_count": 166,
   "id": "6b3c7c88-1232-4496-a762-09e24bc0b363",
   "metadata": {},
   "outputs": [],
   "source": [
    "Health_data['Glucose']=np.log(Health_data['Glucose'])\n"
   ]
  },
  {
   "cell_type": "code",
   "execution_count": 172,
   "id": "1c0d3514-50d2-406c-ba34-9f13e44a6c69",
   "metadata": {},
   "outputs": [
    {
     "data": {
      "image/png": "[encoded data removed]",
      "text/plain": [
       "<Figure size 640x480 with 1 Axes>"
      ]
     },
     "metadata": {},
     "output_type": "display_data"
    }
   ],
   "source": [
    "Health_data.boxplot(column='Glucose')\n",
    "pyp.show()"
   ]
  },
  {
   "cell_type": "code",
   "execution_count": 170,
   "id": "35802fdb-ec51-4fad-bcae-78bd27d4de2b",
   "metadata": {},
   "outputs": [
    {
     "name": "stderr",
     "output_type": "stream",
     "text": [
      "C:\\Users\\Bachelor_001\\anaconda3\\Lib\\site-packages\\pandas\\core\\arraylike.py:399: RuntimeWarning: invalid value encountered in log\n",
      "  result = getattr(ufunc, method)(*inputs, **kwargs)\n"
     ]
    }
   ],
   "source": [
    "Health_data['Glucose']=np.log(Health_data['Glucose'])"
   ]
  },
  {
   "cell_type": "code",
   "execution_count": 176,
   "id": "4d64767d-6683-4f6e-824a-275459e261d5",
   "metadata": {},
   "outputs": [
    {
     "data": {
      "text/plain": [
       "<Axes: >"
      ]
     },
     "execution_count": 176,
     "metadata": {},
     "output_type": "execute_result"
    }
   ],
   "source": [
    "Health_data.boxplot(column='Glucose')\n"
   ]
  },
  {
   "cell_type": "markdown",
   "id": "194db1b5-b769-4c48-be22-565bbc7cedf5",
   "metadata": {},
   "source": [
    "## Investigating BloodPressure"
   ]
  },
  {
   "cell_type": "code",
   "execution_count": 76,
   "id": "fd07a541-03b6-436a-a37c-e10ebf0d7e92",
   "metadata": {},
   "outputs": [
    {
     "name": "stdout",
     "output_type": "stream",
     "text": [
      "<class 'pandas.core.series.Series'>\n",
      "RangeIndex: 768 entries, 0 to 767\n",
      "Series name: BloodPressure\n",
      "Non-Null Count  Dtype\n",
      "--------------  -----\n",
      "768 non-null    int64\n",
      "dtypes: int64(1)\n",
      "memory usage: 6.1 KB\n"
     ]
    },
    {
     "data": {
      "image/png": "[encoded data removed]",
      "text/plain": [
       "<Figure size 640x480 with 1 Axes>"
      ]
     },
     "metadata": {},
     "output_type": "display_data"
    }
   ],
   "source": [
    "Health_data['BloodPressure'].info()\n",
    "Health_data['BloodPressure'].unique()\n",
    "Health_data['BloodPressure'].isna().sum()\n",
    "Health_data.boxplot(column = 'BloodPressure')\n",
    "pyp.show()"
   ]
  },
  {
   "cell_type": "markdown",
   "id": "493d0838-ad11-482a-9901-bf22b86f6ed8",
   "metadata": {},
   "source": [
    "Blood pressure has 7 outliers"
   ]
  },
  {
   "cell_type": "code",
   "execution_count": 78,
   "id": "6398bd74-5091-4f03-8a88-e508a704f7fe",
   "metadata": {},
   "outputs": [
    {
     "data": {
      "image/png": "[encoded data removed]",
      "text/plain": [
       "<Figure size 640x480 with 1 Axes>"
      ]
     },
     "metadata": {},
     "output_type": "display_data"
    }
   ],
   "source": [
    "Health_data['BloodPressure'].hist(bins=20)\n",
    "pyp.show()"
   ]
  },
  {
   "cell_type": "code",
   "execution_count": null,
   "id": "b58eec06-c9a8-4c38-9e71-e9cbf600cc1b",
   "metadata": {},
   "outputs": [],
   "source": []
  },
  {
   "cell_type": "code",
   "execution_count": 80,
   "id": "019e4db6-0b47-4ffc-a1f5-d87e1d94a865",
   "metadata": {},
   "outputs": [
    {
     "data": {
      "text/plain": [
       "Index(['Pregnancies', 'Glucose', 'BloodPressure', 'SkinThickness', 'Insulin',\n",
       "       'BMI', 'DiabetesPedigreeFunction', 'Age', 'Outcome'],\n",
       "      dtype='object')"
      ]
     },
     "execution_count": 80,
     "metadata": {},
     "output_type": "execute_result"
    }
   ],
   "source": [
    "Health_data.columns"
   ]
  },
  {
   "cell_type": "markdown",
   "id": "eba1ad6a-4a87-4b25-8ffa-50316ecb782a",
   "metadata": {},
   "source": [
    "## Investigating SkinThickness"
   ]
  },
  {
   "cell_type": "code",
   "execution_count": 82,
   "id": "cc2aa046-a0c8-47e9-b02c-d5bc628cf992",
   "metadata": {},
   "outputs": [
    {
     "name": "stdout",
     "output_type": "stream",
     "text": [
      "<class 'pandas.core.series.Series'>\n",
      "RangeIndex: 768 entries, 0 to 767\n",
      "Series name: SkinThickness\n",
      "Non-Null Count  Dtype\n",
      "--------------  -----\n",
      "768 non-null    int64\n",
      "dtypes: int64(1)\n",
      "memory usage: 6.1 KB\n"
     ]
    },
    {
     "data": {
      "text/plain": [
       "227"
      ]
     },
     "execution_count": 82,
     "metadata": {},
     "output_type": "execute_result"
    }
   ],
   "source": [
    "Health_data['SkinThickness'].info()\n",
    "Health_data['SkinThickness'].unique()\n",
    "(Health_data['SkinThickness']==0).sum()"
   ]
  },
  {
   "cell_type": "markdown",
   "id": "bd58086f-cf14-4041-9d9c-9f0821cc170f",
   "metadata": {},
   "source": [
    "Dropping SkinThickness"
   ]
  },
  {
   "cell_type": "code",
   "execution_count": 84,
   "id": "bf39c785-f6d4-42d2-9791-9ea434c2adfc",
   "metadata": {},
   "outputs": [],
   "source": [
    "Health_data=Health_data.drop(['SkinThickness'],axis='columns')\n"
   ]
  },
  {
   "cell_type": "code",
   "execution_count": 86,
   "id": "794b1a15-9252-4e73-9920-6cc9cc76a63d",
   "metadata": {},
   "outputs": [
    {
     "data": {
      "text/html": [
       "<div>\n",
       "<style scoped>\n",
       "    .dataframe tbody tr th:only-of-type {\n",
       "        vertical-align: middle;\n",
       "    }\n",
       "\n",
       "    .dataframe tbody tr th {\n",
       "        vertical-align: top;\n",
       "    }\n",
       "\n",
       "    .dataframe thead th {\n",
       "        text-align: right;\n",
       "    }\n",
       "</style>\n",
       "<table border=\"1\" class=\"dataframe\">\n",
       "  <thead>\n",
       "    <tr style=\"text-align: right;\">\n",
       "      <th></th>\n",
       "      <th>Pregnancies</th>\n",
       "      <th>Glucose</th>\n",
       "      <th>BloodPressure</th>\n",
       "      <th>Insulin</th>\n",
       "      <th>BMI</th>\n",
       "      <th>DiabetesPedigreeFunction</th>\n",
       "      <th>Age</th>\n",
       "      <th>Outcome</th>\n",
       "    </tr>\n",
       "  </thead>\n",
       "  <tbody>\n",
       "    <tr>\n",
       "      <th>0</th>\n",
       "      <td>6</td>\n",
       "      <td>148</td>\n",
       "      <td>72</td>\n",
       "      <td>0</td>\n",
       "      <td>33.6</td>\n",
       "      <td>0.627</td>\n",
       "      <td>50</td>\n",
       "      <td>1</td>\n",
       "    </tr>\n",
       "    <tr>\n",
       "      <th>1</th>\n",
       "      <td>1</td>\n",
       "      <td>85</td>\n",
       "      <td>66</td>\n",
       "      <td>0</td>\n",
       "      <td>26.6</td>\n",
       "      <td>0.351</td>\n",
       "      <td>31</td>\n",
       "      <td>0</td>\n",
       "    </tr>\n",
       "    <tr>\n",
       "      <th>2</th>\n",
       "      <td>8</td>\n",
       "      <td>183</td>\n",
       "      <td>64</td>\n",
       "      <td>0</td>\n",
       "      <td>23.3</td>\n",
       "      <td>0.672</td>\n",
       "      <td>32</td>\n",
       "      <td>1</td>\n",
       "    </tr>\n",
       "    <tr>\n",
       "      <th>3</th>\n",
       "      <td>1</td>\n",
       "      <td>89</td>\n",
       "      <td>66</td>\n",
       "      <td>94</td>\n",
       "      <td>28.1</td>\n",
       "      <td>0.167</td>\n",
       "      <td>21</td>\n",
       "      <td>0</td>\n",
       "    </tr>\n",
       "    <tr>\n",
       "      <th>4</th>\n",
       "      <td>0</td>\n",
       "      <td>137</td>\n",
       "      <td>40</td>\n",
       "      <td>168</td>\n",
       "      <td>43.1</td>\n",
       "      <td>2.288</td>\n",
       "      <td>33</td>\n",
       "      <td>1</td>\n",
       "    </tr>\n",
       "  </tbody>\n",
       "</table>\n",
       "</div>"
      ],
      "text/plain": [
       "   Pregnancies  Glucose  BloodPressure  Insulin   BMI  \\\n",
       "0            6      148             72        0  33.6   \n",
       "1            1       85             66        0  26.6   \n",
       "2            8      183             64        0  23.3   \n",
       "3            1       89             66       94  28.1   \n",
       "4            0      137             40      168  43.1   \n",
       "\n",
       "   DiabetesPedigreeFunction  Age  Outcome  \n",
       "0                     0.627   50        1  \n",
       "1                     0.351   31        0  \n",
       "2                     0.672   32        1  \n",
       "3                     0.167   21        0  \n",
       "4                     2.288   33        1  "
      ]
     },
     "execution_count": 86,
     "metadata": {},
     "output_type": "execute_result"
    }
   ],
   "source": [
    "Health_data.head()"
   ]
  },
  {
   "cell_type": "markdown",
   "id": "6a64f543-cef7-4074-883e-80674c309f1d",
   "metadata": {},
   "source": [
    "## Investigating Insulin"
   ]
  },
  {
   "cell_type": "code",
   "execution_count": 88,
   "id": "896c2cbe-25da-431a-ad95-3212a8202c40",
   "metadata": {},
   "outputs": [
    {
     "name": "stdout",
     "output_type": "stream",
     "text": [
      "<class 'pandas.core.series.Series'>\n",
      "RangeIndex: 768 entries, 0 to 767\n",
      "Series name: Insulin\n",
      "Non-Null Count  Dtype\n",
      "--------------  -----\n",
      "768 non-null    int64\n",
      "dtypes: int64(1)\n",
      "memory usage: 6.1 KB\n"
     ]
    },
    {
     "data": {
      "text/plain": [
       "374"
      ]
     },
     "execution_count": 88,
     "metadata": {},
     "output_type": "execute_result"
    }
   ],
   "source": [
    "Health_data['Insulin'].info()\n",
    "Health_data['Insulin'].unique()\n",
    "(Health_data['Insulin']==0).sum()"
   ]
  },
  {
   "cell_type": "markdown",
   "id": "5a333453-6808-4b45-94c7-be473fd3ee13",
   "metadata": {},
   "source": [
    "Droppping Insulin"
   ]
  },
  {
   "cell_type": "code",
   "execution_count": 90,
   "id": "b79a75ce-eec9-4e4d-9389-fa1db99e95c4",
   "metadata": {},
   "outputs": [],
   "source": [
    "Health_data=Health_data.drop(['Insulin'],axis='columns')"
   ]
  },
  {
   "cell_type": "code",
   "execution_count": 92,
   "id": "c507eadb-15da-4045-a90e-4e2d8a14eb57",
   "metadata": {},
   "outputs": [
    {
     "data": {
      "text/html": [
       "<div>\n",
       "<style scoped>\n",
       "    .dataframe tbody tr th:only-of-type {\n",
       "        vertical-align: middle;\n",
       "    }\n",
       "\n",
       "    .dataframe tbody tr th {\n",
       "        vertical-align: top;\n",
       "    }\n",
       "\n",
       "    .dataframe thead th {\n",
       "        text-align: right;\n",
       "    }\n",
       "</style>\n",
       "<table border=\"1\" class=\"dataframe\">\n",
       "  <thead>\n",
       "    <tr style=\"text-align: right;\">\n",
       "      <th></th>\n",
       "      <th>Pregnancies</th>\n",
       "      <th>Glucose</th>\n",
       "      <th>BloodPressure</th>\n",
       "      <th>BMI</th>\n",
       "      <th>DiabetesPedigreeFunction</th>\n",
       "      <th>Age</th>\n",
       "      <th>Outcome</th>\n",
       "    </tr>\n",
       "  </thead>\n",
       "  <tbody>\n",
       "    <tr>\n",
       "      <th>0</th>\n",
       "      <td>6</td>\n",
       "      <td>148</td>\n",
       "      <td>72</td>\n",
       "      <td>33.6</td>\n",
       "      <td>0.627</td>\n",
       "      <td>50</td>\n",
       "      <td>1</td>\n",
       "    </tr>\n",
       "    <tr>\n",
       "      <th>1</th>\n",
       "      <td>1</td>\n",
       "      <td>85</td>\n",
       "      <td>66</td>\n",
       "      <td>26.6</td>\n",
       "      <td>0.351</td>\n",
       "      <td>31</td>\n",
       "      <td>0</td>\n",
       "    </tr>\n",
       "    <tr>\n",
       "      <th>2</th>\n",
       "      <td>8</td>\n",
       "      <td>183</td>\n",
       "      <td>64</td>\n",
       "      <td>23.3</td>\n",
       "      <td>0.672</td>\n",
       "      <td>32</td>\n",
       "      <td>1</td>\n",
       "    </tr>\n",
       "    <tr>\n",
       "      <th>3</th>\n",
       "      <td>1</td>\n",
       "      <td>89</td>\n",
       "      <td>66</td>\n",
       "      <td>28.1</td>\n",
       "      <td>0.167</td>\n",
       "      <td>21</td>\n",
       "      <td>0</td>\n",
       "    </tr>\n",
       "    <tr>\n",
       "      <th>4</th>\n",
       "      <td>0</td>\n",
       "      <td>137</td>\n",
       "      <td>40</td>\n",
       "      <td>43.1</td>\n",
       "      <td>2.288</td>\n",
       "      <td>33</td>\n",
       "      <td>1</td>\n",
       "    </tr>\n",
       "  </tbody>\n",
       "</table>\n",
       "</div>"
      ],
      "text/plain": [
       "   Pregnancies  Glucose  BloodPressure   BMI  DiabetesPedigreeFunction  Age  \\\n",
       "0            6      148             72  33.6                     0.627   50   \n",
       "1            1       85             66  26.6                     0.351   31   \n",
       "2            8      183             64  23.3                     0.672   32   \n",
       "3            1       89             66  28.1                     0.167   21   \n",
       "4            0      137             40  43.1                     2.288   33   \n",
       "\n",
       "   Outcome  \n",
       "0        1  \n",
       "1        0  \n",
       "2        1  \n",
       "3        0  \n",
       "4        1  "
      ]
     },
     "execution_count": 92,
     "metadata": {},
     "output_type": "execute_result"
    }
   ],
   "source": [
    "Health_data.head()"
   ]
  },
  {
   "cell_type": "code",
   "execution_count": 96,
   "id": "31b7efa7-975f-4d8b-8e2c-a328c9caad43",
   "metadata": {},
   "outputs": [],
   "source": [
    "#number_of_zeros_insulin=(Health_data['Insulin']==0).sum()\n",
    "#number_of_zeros_insulin"
   ]
  },
  {
   "cell_type": "markdown",
   "id": "9b005a3d-fe78-4864-b3b2-05e77d1d73f5",
   "metadata": {},
   "source": [
    "Too many zeros in insulin wont affect the our analysis if dropped"
   ]
  },
  {
   "cell_type": "markdown",
   "id": "8fb043bb-c627-4455-b45a-4d9ee031d427",
   "metadata": {},
   "source": [
    "## investigating BMI"
   ]
  },
  {
   "cell_type": "code",
   "execution_count": 98,
   "id": "777dbabb-b5a1-49ae-8526-bd52521199d5",
   "metadata": {},
   "outputs": [
    {
     "name": "stdout",
     "output_type": "stream",
     "text": [
      "<class 'pandas.core.series.Series'>\n",
      "RangeIndex: 768 entries, 0 to 767\n",
      "Series name: BMI\n",
      "Non-Null Count  Dtype  \n",
      "--------------  -----  \n",
      "768 non-null    float64\n",
      "dtypes: float64(1)\n",
      "memory usage: 6.1 KB\n"
     ]
    },
    {
     "data": {
      "image/png": "[encoded data removed]",
      "text/plain": [
       "<Figure size 640x480 with 1 Axes>"
      ]
     },
     "metadata": {},
     "output_type": "display_data"
    }
   ],
   "source": [
    "Health_data['BMI'].info()\n",
    "Health_data['BMI'].unique()\n",
    "Health_data.boxplot(column='BMI')\n",
    "pyp.show()\n"
   ]
  },
  {
   "cell_type": "code",
   "execution_count": 100,
   "id": "984a6623-5d1f-43c6-9844-99dcc2a651ba",
   "metadata": {},
   "outputs": [
    {
     "data": {
      "image/png": "[encoded data removed]",
      "text/plain": [
       "<Figure size 640x480 with 1 Axes>"
      ]
     },
     "metadata": {},
     "output_type": "display_data"
    }
   ],
   "source": [
    "Health_data['BMI'].hist(bins=20)\n",
    "pyp.show()"
   ]
  },
  {
   "cell_type": "markdown",
   "id": "fc5d5fef-486a-4944-8d0e-e4f0788adcf3",
   "metadata": {},
   "source": [
    "Skewed distribution"
   ]
  },
  {
   "cell_type": "markdown",
   "id": "95d56971-e608-40c6-bc38-9c737be0bb38",
   "metadata": {},
   "source": [
    "## Investigating DiabetesPedigreeFunction"
   ]
  },
  {
   "cell_type": "code",
   "execution_count": 102,
   "id": "e2266d8d-db76-4dee-add2-56c0a0da5c3d",
   "metadata": {},
   "outputs": [
    {
     "name": "stdout",
     "output_type": "stream",
     "text": [
      "<class 'pandas.core.series.Series'>\n",
      "RangeIndex: 768 entries, 0 to 767\n",
      "Series name: DiabetesPedigreeFunction\n",
      "Non-Null Count  Dtype  \n",
      "--------------  -----  \n",
      "768 non-null    float64\n",
      "dtypes: float64(1)\n",
      "memory usage: 6.1 KB\n"
     ]
    },
    {
     "data": {
      "image/png": "[encoded data removed]",
      "text/plain": [
       "<Figure size 640x480 with 1 Axes>"
      ]
     },
     "metadata": {},
     "output_type": "display_data"
    }
   ],
   "source": [
    "Health_data['DiabetesPedigreeFunction'].info()\n",
    "Health_data['DiabetesPedigreeFunction'].unique()\n",
    "Health_data.boxplot(column='DiabetesPedigreeFunction')\n",
    "pyp.show()"
   ]
  },
  {
   "cell_type": "code",
   "execution_count": 104,
   "id": "8f2d727f-ec21-4adb-b9db-ca659d7a2288",
   "metadata": {},
   "outputs": [
    {
     "data": {
      "image/png": "[encoded data removed]",
      "text/plain": [
       "<Figure size 640x480 with 1 Axes>"
      ]
     },
     "metadata": {},
     "output_type": "display_data"
    }
   ],
   "source": [
    "Health_data['DiabetesPedigreeFunction'].hist(bins=20)\n",
    "pyp.show()"
   ]
  },
  {
   "cell_type": "code",
   "execution_count": 178,
   "id": "8746e80e-4f12-4c54-a915-98565b583ba9",
   "metadata": {},
   "outputs": [],
   "source": [
    "Health_data['DiabetesPedigreeFunction']=np.log(Health_data['DiabetesPedigreeFunction'])\n",
    "\n"
   ]
  },
  {
   "cell_type": "code",
   "execution_count": 180,
   "id": "1cff053b-04da-4378-854a-405dbb1cab2c",
   "metadata": {},
   "outputs": [
    {
     "data": {
      "image/png": "[encoded data removed]",
      "text/plain": [
       "<Figure size 640x480 with 1 Axes>"
      ]
     },
     "metadata": {},
     "output_type": "display_data"
    }
   ],
   "source": [
    "Health_data.boxplot(column='DiabetesPedigreeFunction')\n",
    "pyp.show()"
   ]
  },
  {
   "cell_type": "code",
   "execution_count": 106,
   "id": "6d7ec49b-84c1-4d06-856c-e1e978b163ef",
   "metadata": {},
   "outputs": [
    {
     "data": {
      "text/plain": [
       "Index(['Pregnancies', 'Glucose', 'BloodPressure', 'BMI',\n",
       "       'DiabetesPedigreeFunction', 'Age', 'Outcome'],\n",
       "      dtype='object')"
      ]
     },
     "execution_count": 106,
     "metadata": {},
     "output_type": "execute_result"
    }
   ],
   "source": [
    "Health_data.columns"
   ]
  },
  {
   "cell_type": "markdown",
   "id": "d7337b4f-bd50-420e-af05-75026e6ba12a",
   "metadata": {},
   "source": [
    "## Investigating Age"
   ]
  },
  {
   "cell_type": "code",
   "execution_count": 108,
   "id": "b392fa98-18cc-457a-81ee-04bf5e740833",
   "metadata": {},
   "outputs": [
    {
     "name": "stdout",
     "output_type": "stream",
     "text": [
      "<class 'pandas.core.series.Series'>\n",
      "RangeIndex: 768 entries, 0 to 767\n",
      "Series name: Age\n",
      "Non-Null Count  Dtype\n",
      "--------------  -----\n",
      "768 non-null    int64\n",
      "dtypes: int64(1)\n",
      "memory usage: 6.1 KB\n"
     ]
    },
    {
     "data": {
      "text/plain": [
       "array([50, 31, 32, 21, 33, 30, 26, 29, 53, 54, 34, 57, 59, 51, 27, 41, 43,\n",
       "       22, 38, 60, 28, 45, 35, 46, 56, 37, 48, 40, 25, 24, 58, 42, 44, 39,\n",
       "       36, 23, 61, 69, 62, 55, 65, 47, 52, 66, 49, 63, 67, 72, 81, 64, 70,\n",
       "       68], dtype=int64)"
      ]
     },
     "execution_count": 108,
     "metadata": {},
     "output_type": "execute_result"
    }
   ],
   "source": [
    "Health_data['Age'].info()\n",
    "Health_data['Age'].unique()\n"
   ]
  },
  {
   "cell_type": "code",
   "execution_count": 110,
   "id": "b86d1a98-f558-498c-ba04-6146fd499732",
   "metadata": {},
   "outputs": [
    {
     "data": {
      "image/png": "[encoded data removed]",
      "text/plain": [
       "<Figure size 640x480 with 1 Axes>"
      ]
     },
     "metadata": {},
     "output_type": "display_data"
    }
   ],
   "source": [
    "Health_data.boxplot(column='Age')\n",
    "pyp.show()"
   ]
  },
  {
   "cell_type": "code",
   "execution_count": 112,
   "id": "30f486d7-9236-4ea6-b809-dd3d2409f2c0",
   "metadata": {},
   "outputs": [
    {
     "data": {
      "image/png": "[encoded data removed]",
      "text/plain": [
       "<Figure size 640x480 with 1 Axes>"
      ]
     },
     "metadata": {},
     "output_type": "display_data"
    }
   ],
   "source": [
    "Health_data['Age'].hist(bins=20)\n",
    "pyp.show()"
   ]
  },
  {
   "cell_type": "markdown",
   "id": "1c2c6f85-ce8b-4778-a05b-2b587510af27",
   "metadata": {},
   "source": [
    "Replacing 0 with meadian in Glucose"
   ]
  },
  {
   "cell_type": "code",
   "execution_count": 182,
   "id": "2c79f8c8-64b1-4290-aab2-d2d72f9a2ba5",
   "metadata": {},
   "outputs": [],
   "source": [
    "Health_data['Age']=np.log(Health_data['Age'])"
   ]
  },
  {
   "cell_type": "code",
   "execution_count": 184,
   "id": "4b7335aa-8d1e-42b9-a2a3-bafb9f712be1",
   "metadata": {},
   "outputs": [
    {
     "data": {
      "image/png": "[encoded data removed]",
      "text/plain": [
       "<Figure size 640x480 with 1 Axes>"
      ]
     },
     "metadata": {},
     "output_type": "display_data"
    }
   ],
   "source": [
    "Health_data.boxplot(column='Age')\n",
    "pyp.show()"
   ]
  },
  {
   "cell_type": "code",
   "execution_count": 114,
   "id": "2d5a2482-deb6-4fe1-9381-cdc53460b670",
   "metadata": {},
   "outputs": [
    {
     "name": "stderr",
     "output_type": "stream",
     "text": [
      "C:\\Users\\Bachelor_001\\AppData\\Local\\Temp\\ipykernel_16592\\2060270677.py:1: FutureWarning: Series.replace without 'value' and with non-dict-like 'to_replace' is deprecated and will raise in a future version. Explicitly specify the new values instead.\n",
      "  Health_data['Glucose']=Health_data['Glucose'].replace([0,Health_data['Glucose'].median()])\n"
     ]
    }
   ],
   "source": [
    "Health_data['Glucose']=Health_data['Glucose'].replace([0,Health_data['Glucose'].median()])"
   ]
  },
  {
   "cell_type": "code",
   "execution_count": 116,
   "id": "dc73ef9d-b158-49e2-8d03-c12b38e88fb7",
   "metadata": {},
   "outputs": [
    {
     "data": {
      "text/plain": [
       "0"
      ]
     },
     "execution_count": 116,
     "metadata": {},
     "output_type": "execute_result"
    }
   ],
   "source": [
    "(Health_data['Glucose']==0).sum()"
   ]
  },
  {
   "cell_type": "code",
   "execution_count": 118,
   "id": "09c9f542-6bee-429f-81ef-d27f0299c709",
   "metadata": {},
   "outputs": [
    {
     "data": {
      "text/html": [
       "<div>\n",
       "<style scoped>\n",
       "    .dataframe tbody tr th:only-of-type {\n",
       "        vertical-align: middle;\n",
       "    }\n",
       "\n",
       "    .dataframe tbody tr th {\n",
       "        vertical-align: top;\n",
       "    }\n",
       "\n",
       "    .dataframe thead th {\n",
       "        text-align: right;\n",
       "    }\n",
       "</style>\n",
       "<table border=\"1\" class=\"dataframe\">\n",
       "  <thead>\n",
       "    <tr style=\"text-align: right;\">\n",
       "      <th></th>\n",
       "      <th>Pregnancies</th>\n",
       "      <th>Glucose</th>\n",
       "      <th>BloodPressure</th>\n",
       "      <th>BMI</th>\n",
       "      <th>DiabetesPedigreeFunction</th>\n",
       "      <th>Age</th>\n",
       "      <th>Outcome</th>\n",
       "    </tr>\n",
       "  </thead>\n",
       "  <tbody>\n",
       "    <tr>\n",
       "      <th>123</th>\n",
       "      <td>5</td>\n",
       "      <td>132</td>\n",
       "      <td>80</td>\n",
       "      <td>26.8</td>\n",
       "      <td>0.186</td>\n",
       "      <td>69</td>\n",
       "      <td>0</td>\n",
       "    </tr>\n",
       "    <tr>\n",
       "      <th>747</th>\n",
       "      <td>1</td>\n",
       "      <td>81</td>\n",
       "      <td>74</td>\n",
       "      <td>46.3</td>\n",
       "      <td>1.096</td>\n",
       "      <td>32</td>\n",
       "      <td>0</td>\n",
       "    </tr>\n",
       "    <tr>\n",
       "      <th>347</th>\n",
       "      <td>3</td>\n",
       "      <td>116</td>\n",
       "      <td>0</td>\n",
       "      <td>23.5</td>\n",
       "      <td>0.187</td>\n",
       "      <td>23</td>\n",
       "      <td>0</td>\n",
       "    </tr>\n",
       "    <tr>\n",
       "      <th>651</th>\n",
       "      <td>1</td>\n",
       "      <td>91</td>\n",
       "      <td>60</td>\n",
       "      <td>33.8</td>\n",
       "      <td>0.466</td>\n",
       "      <td>27</td>\n",
       "      <td>0</td>\n",
       "    </tr>\n",
       "    <tr>\n",
       "      <th>735</th>\n",
       "      <td>4</td>\n",
       "      <td>95</td>\n",
       "      <td>60</td>\n",
       "      <td>35.4</td>\n",
       "      <td>0.284</td>\n",
       "      <td>28</td>\n",
       "      <td>0</td>\n",
       "    </tr>\n",
       "    <tr>\n",
       "      <th>281</th>\n",
       "      <td>10</td>\n",
       "      <td>129</td>\n",
       "      <td>76</td>\n",
       "      <td>35.9</td>\n",
       "      <td>0.280</td>\n",
       "      <td>39</td>\n",
       "      <td>0</td>\n",
       "    </tr>\n",
       "    <tr>\n",
       "      <th>110</th>\n",
       "      <td>3</td>\n",
       "      <td>171</td>\n",
       "      <td>72</td>\n",
       "      <td>33.3</td>\n",
       "      <td>0.199</td>\n",
       "      <td>24</td>\n",
       "      <td>1</td>\n",
       "    </tr>\n",
       "    <tr>\n",
       "      <th>8</th>\n",
       "      <td>2</td>\n",
       "      <td>197</td>\n",
       "      <td>70</td>\n",
       "      <td>30.5</td>\n",
       "      <td>0.158</td>\n",
       "      <td>53</td>\n",
       "      <td>1</td>\n",
       "    </tr>\n",
       "    <tr>\n",
       "      <th>696</th>\n",
       "      <td>3</td>\n",
       "      <td>169</td>\n",
       "      <td>74</td>\n",
       "      <td>29.9</td>\n",
       "      <td>0.268</td>\n",
       "      <td>31</td>\n",
       "      <td>1</td>\n",
       "    </tr>\n",
       "    <tr>\n",
       "      <th>244</th>\n",
       "      <td>2</td>\n",
       "      <td>146</td>\n",
       "      <td>76</td>\n",
       "      <td>38.2</td>\n",
       "      <td>0.329</td>\n",
       "      <td>29</td>\n",
       "      <td>0</td>\n",
       "    </tr>\n",
       "    <tr>\n",
       "      <th>755</th>\n",
       "      <td>1</td>\n",
       "      <td>128</td>\n",
       "      <td>88</td>\n",
       "      <td>36.5</td>\n",
       "      <td>1.057</td>\n",
       "      <td>37</td>\n",
       "      <td>1</td>\n",
       "    </tr>\n",
       "    <tr>\n",
       "      <th>606</th>\n",
       "      <td>1</td>\n",
       "      <td>181</td>\n",
       "      <td>78</td>\n",
       "      <td>40.0</td>\n",
       "      <td>1.258</td>\n",
       "      <td>22</td>\n",
       "      <td>1</td>\n",
       "    </tr>\n",
       "    <tr>\n",
       "      <th>24</th>\n",
       "      <td>11</td>\n",
       "      <td>143</td>\n",
       "      <td>94</td>\n",
       "      <td>36.6</td>\n",
       "      <td>0.254</td>\n",
       "      <td>51</td>\n",
       "      <td>1</td>\n",
       "    </tr>\n",
       "    <tr>\n",
       "      <th>436</th>\n",
       "      <td>12</td>\n",
       "      <td>140</td>\n",
       "      <td>85</td>\n",
       "      <td>37.4</td>\n",
       "      <td>0.244</td>\n",
       "      <td>41</td>\n",
       "      <td>0</td>\n",
       "    </tr>\n",
       "    <tr>\n",
       "      <th>64</th>\n",
       "      <td>7</td>\n",
       "      <td>114</td>\n",
       "      <td>66</td>\n",
       "      <td>32.8</td>\n",
       "      <td>0.258</td>\n",
       "      <td>42</td>\n",
       "      <td>1</td>\n",
       "    </tr>\n",
       "    <tr>\n",
       "      <th>252</th>\n",
       "      <td>2</td>\n",
       "      <td>90</td>\n",
       "      <td>80</td>\n",
       "      <td>24.4</td>\n",
       "      <td>0.249</td>\n",
       "      <td>24</td>\n",
       "      <td>0</td>\n",
       "    </tr>\n",
       "    <tr>\n",
       "      <th>646</th>\n",
       "      <td>1</td>\n",
       "      <td>167</td>\n",
       "      <td>74</td>\n",
       "      <td>23.4</td>\n",
       "      <td>0.447</td>\n",
       "      <td>33</td>\n",
       "      <td>1</td>\n",
       "    </tr>\n",
       "    <tr>\n",
       "      <th>84</th>\n",
       "      <td>5</td>\n",
       "      <td>137</td>\n",
       "      <td>108</td>\n",
       "      <td>48.8</td>\n",
       "      <td>0.227</td>\n",
       "      <td>37</td>\n",
       "      <td>1</td>\n",
       "    </tr>\n",
       "    <tr>\n",
       "      <th>308</th>\n",
       "      <td>0</td>\n",
       "      <td>128</td>\n",
       "      <td>68</td>\n",
       "      <td>30.5</td>\n",
       "      <td>1.391</td>\n",
       "      <td>25</td>\n",
       "      <td>1</td>\n",
       "    </tr>\n",
       "    <tr>\n",
       "      <th>420</th>\n",
       "      <td>1</td>\n",
       "      <td>119</td>\n",
       "      <td>88</td>\n",
       "      <td>45.3</td>\n",
       "      <td>0.507</td>\n",
       "      <td>26</td>\n",
       "      <td>0</td>\n",
       "    </tr>\n",
       "  </tbody>\n",
       "</table>\n",
       "</div>"
      ],
      "text/plain": [
       "     Pregnancies  Glucose  BloodPressure   BMI  DiabetesPedigreeFunction  Age  \\\n",
       "123            5      132             80  26.8                     0.186   69   \n",
       "747            1       81             74  46.3                     1.096   32   \n",
       "347            3      116              0  23.5                     0.187   23   \n",
       "651            1       91             60  33.8                     0.466   27   \n",
       "735            4       95             60  35.4                     0.284   28   \n",
       "281           10      129             76  35.9                     0.280   39   \n",
       "110            3      171             72  33.3                     0.199   24   \n",
       "8              2      197             70  30.5                     0.158   53   \n",
       "696            3      169             74  29.9                     0.268   31   \n",
       "244            2      146             76  38.2                     0.329   29   \n",
       "755            1      128             88  36.5                     1.057   37   \n",
       "606            1      181             78  40.0                     1.258   22   \n",
       "24            11      143             94  36.6                     0.254   51   \n",
       "436           12      140             85  37.4                     0.244   41   \n",
       "64             7      114             66  32.8                     0.258   42   \n",
       "252            2       90             80  24.4                     0.249   24   \n",
       "646            1      167             74  23.4                     0.447   33   \n",
       "84             5      137            108  48.8                     0.227   37   \n",
       "308            0      128             68  30.5                     1.391   25   \n",
       "420            1      119             88  45.3                     0.507   26   \n",
       "\n",
       "     Outcome  \n",
       "123        0  \n",
       "747        0  \n",
       "347        0  \n",
       "651        0  \n",
       "735        0  \n",
       "281        0  \n",
       "110        1  \n",
       "8          1  \n",
       "696        1  \n",
       "244        0  \n",
       "755        1  \n",
       "606        1  \n",
       "24         1  \n",
       "436        0  \n",
       "64         1  \n",
       "252        0  \n",
       "646        1  \n",
       "84         1  \n",
       "308        1  \n",
       "420        0  "
      ]
     },
     "execution_count": 118,
     "metadata": {},
     "output_type": "execute_result"
    }
   ],
   "source": [
    "Health_data.sample(20)"
   ]
  },
  {
   "cell_type": "code",
   "execution_count": 120,
   "id": "94391ad3-aa7d-45ee-994f-314ee08c496e",
   "metadata": {},
   "outputs": [
    {
     "name": "stderr",
     "output_type": "stream",
     "text": [
      "C:\\Users\\Bachelor_001\\AppData\\Local\\Temp\\ipykernel_16592\\1106200303.py:1: FutureWarning: Series.replace without 'value' and with non-dict-like 'to_replace' is deprecated and will raise in a future version. Explicitly specify the new values instead.\n",
      "  Health_data['BloodPressure']=Health_data['BloodPressure'].replace([0,Health_data['BloodPressure'].median()])\n"
     ]
    }
   ],
   "source": [
    "Health_data['BloodPressure']=Health_data['BloodPressure'].replace([0,Health_data['BloodPressure'].median()])"
   ]
  },
  {
   "cell_type": "code",
   "execution_count": 122,
   "id": "1b7a58c0-c1cb-4d12-9b52-88b96f0325f9",
   "metadata": {},
   "outputs": [
    {
     "data": {
      "text/plain": [
       "0"
      ]
     },
     "execution_count": 122,
     "metadata": {},
     "output_type": "execute_result"
    }
   ],
   "source": [
    "(Health_data['BloodPressure']==0).sum()"
   ]
  },
  {
   "cell_type": "code",
   "execution_count": 124,
   "id": "07fdff6c-e4f8-4d50-a21c-7c1093cb8414",
   "metadata": {},
   "outputs": [
    {
     "name": "stderr",
     "output_type": "stream",
     "text": [
      "C:\\Users\\Bachelor_001\\AppData\\Local\\Temp\\ipykernel_16592\\2997554782.py:1: FutureWarning: Series.replace without 'value' and with non-dict-like 'to_replace' is deprecated and will raise in a future version. Explicitly specify the new values instead.\n",
      "  Health_data['BMI']=Health_data['BMI'].replace([0,Health_data['BMI'].median()])\n"
     ]
    }
   ],
   "source": [
    "Health_data['BMI']=Health_data['BMI'].replace([0,Health_data['BMI'].median()])"
   ]
  },
  {
   "cell_type": "code",
   "execution_count": 126,
   "id": "371a231c-3b6e-480c-9e8e-47a13a373eac",
   "metadata": {},
   "outputs": [
    {
     "data": {
      "text/plain": [
       "0"
      ]
     },
     "execution_count": 126,
     "metadata": {},
     "output_type": "execute_result"
    }
   ],
   "source": [
    "(Health_data['BMI']==0).sum()"
   ]
  },
  {
   "cell_type": "code",
   "execution_count": 130,
   "id": "ff02cc9f-2055-4648-980e-7623ced2ea9c",
   "metadata": {},
   "outputs": [
    {
     "data": {
      "text/plain": [
       "Pregnancies                   int64\n",
       "Glucose                       int64\n",
       "BloodPressure                 int64\n",
       "BMI                         float64\n",
       "DiabetesPedigreeFunction    float64\n",
       "Age                           int64\n",
       "Outcome                       int64\n",
       "dtype: object"
      ]
     },
     "execution_count": 130,
     "metadata": {},
     "output_type": "execute_result"
    }
   ],
   "source": [
    "Health_data.dtypes"
   ]
  },
  {
   "cell_type": "code",
   "execution_count": 132,
   "id": "8ebfbb23-8db5-4fbc-a831-2e8f5f0d5b32",
   "metadata": {},
   "outputs": [
    {
     "name": "stdout",
     "output_type": "stream",
     "text": [
      "<class 'pandas.core.frame.DataFrame'>\n",
      "RangeIndex: 768 entries, 0 to 767\n",
      "Data columns (total 7 columns):\n",
      " #   Column                    Non-Null Count  Dtype  \n",
      "---  ------                    --------------  -----  \n",
      " 0   Pregnancies               768 non-null    int64  \n",
      " 1   Glucose                   768 non-null    int64  \n",
      " 2   BloodPressure             768 non-null    int64  \n",
      " 3   BMI                       768 non-null    float64\n",
      " 4   DiabetesPedigreeFunction  768 non-null    float64\n",
      " 5   Age                       768 non-null    int64  \n",
      " 6   Outcome                   768 non-null    int64  \n",
      "dtypes: float64(2), int64(5)\n",
      "memory usage: 42.1 KB\n"
     ]
    }
   ],
   "source": [
    "Health_data.info()"
   ]
  },
  {
   "cell_type": "markdown",
   "id": "19f95be7-6cfd-40a7-9c02-5fb245e3bf85",
   "metadata": {},
   "source": [
    "## Investigating Outcome"
   ]
  },
  {
   "cell_type": "code",
   "execution_count": 134,
   "id": "2dd90006-209f-47d7-9d5b-7e3d6592de87",
   "metadata": {},
   "outputs": [
    {
     "name": "stdout",
     "output_type": "stream",
     "text": [
      "<class 'pandas.core.series.Series'>\n",
      "RangeIndex: 768 entries, 0 to 767\n",
      "Series name: Outcome\n",
      "Non-Null Count  Dtype\n",
      "--------------  -----\n",
      "768 non-null    int64\n",
      "dtypes: int64(1)\n",
      "memory usage: 6.1 KB\n",
      "<class 'pandas.core.series.Series'>\n",
      "RangeIndex: 768 entries, 0 to 767\n",
      "Series name: Outcome\n",
      "Non-Null Count  Dtype   \n",
      "--------------  -----   \n",
      "768 non-null    category\n",
      "dtypes: category(1)\n",
      "memory usage: 1.0 KB\n"
     ]
    },
    {
     "data": {
      "text/plain": [
       "[1, 0]\n",
       "Categories (2, int64): [0, 1]"
      ]
     },
     "execution_count": 134,
     "metadata": {},
     "output_type": "execute_result"
    }
   ],
   "source": [
    "Health_data['Outcome'].info()\n",
    "Health_data['Outcome'].unique()\n",
    "Health_data['Outcome']=Health_data['Outcome'].astype('category')\n",
    "Health_data['Outcome'].info()\n",
    "Health_data['Outcome'].unique()"
   ]
  },
  {
   "cell_type": "markdown",
   "id": "ca0ba726-0e4a-4e0e-9fef-503085931977",
   "metadata": {},
   "source": [
    "## Assighning values"
   ]
  },
  {
   "cell_type": "code",
   "execution_count": 136,
   "id": "18831eaf-140c-44fb-887c-5c98bd1dd00e",
   "metadata": {},
   "outputs": [],
   "source": [
    "y=Health_data['Outcome']\n",
    "x=Health_data.drop('Outcome',axis='columns')"
   ]
  },
  {
   "cell_type": "code",
   "execution_count": 144,
   "id": "246cb6d2-42fb-4c67-9337-e4806bfdd055",
   "metadata": {},
   "outputs": [
    {
     "data": {
      "text/plain": [
       "['ReBl',\n",
       " '__all__',\n",
       " '__builtins__',\n",
       " '__cached__',\n",
       " '__doc__',\n",
       " '__file__',\n",
       " '__loader__',\n",
       " '__name__',\n",
       " '__package__',\n",
       " '__path__',\n",
       " '__spec__',\n",
       " '__version__',\n",
       " 'cm2',\n",
       " 'cm3',\n",
       " 'datasets',\n",
       " 'discrete_scatter',\n",
       " 'plot_2d_separator',\n",
       " 'plot_agglomerative',\n",
       " 'plot_animal_tree',\n",
       " 'plot_cross_validation',\n",
       " 'plot_dbscan',\n",
       " 'plot_decomposition',\n",
       " 'plot_grid_search',\n",
       " 'plot_helpers',\n",
       " 'plot_improper_preprocessing',\n",
       " 'plot_interactive_tree',\n",
       " 'plot_kmeans',\n",
       " 'plot_kneighbors_regularization',\n",
       " 'plot_knn_classification',\n",
       " 'plot_knn_regression',\n",
       " 'plot_linear_regression',\n",
       " 'plot_linear_svc_regularization',\n",
       " 'plot_metrics',\n",
       " 'plot_nmf',\n",
       " 'plot_nn_graphs',\n",
       " 'plot_pca',\n",
       " 'plot_rbf_svm_parameters',\n",
       " 'plot_ridge',\n",
       " 'plot_scaling',\n",
       " 'plot_tree_nonmonotonous',\n",
       " 'plots',\n",
       " 'tools']"
      ]
     },
     "execution_count": 144,
     "metadata": {},
     "output_type": "execute_result"
    }
   ],
   "source": [
    "import sklearn\n",
    "dir(sklearn)\n",
    "import mglearn\n",
    "dir(mglearn)"
   ]
  },
  {
   "cell_type": "code",
   "execution_count": 146,
   "id": "1b5a8491-24fc-4d7f-80c0-00fed3c531c2",
   "metadata": {},
   "outputs": [
    {
     "data": {
      "text/plain": [
       "['_BUILT_WITH_MESON',\n",
       " '__SKLEARN_SETUP__',\n",
       " '__all__',\n",
       " '__builtins__',\n",
       " '__cached__',\n",
       " '__check_build',\n",
       " '__doc__',\n",
       " '__file__',\n",
       " '__loader__',\n",
       " '__name__',\n",
       " '__package__',\n",
       " '__path__',\n",
       " '__spec__',\n",
       " '__version__',\n",
       " '_config',\n",
       " '_distributor_init',\n",
       " '_isotonic',\n",
       " '_loss',\n",
       " 'base',\n",
       " 'clone',\n",
       " 'cluster',\n",
       " 'config_context',\n",
       " 'datasets',\n",
       " 'decomposition',\n",
       " 'exceptions',\n",
       " 'externals',\n",
       " 'feature_extraction',\n",
       " 'get_config',\n",
       " 'isotonic',\n",
       " 'linear_model',\n",
       " 'logger',\n",
       " 'logging',\n",
       " 'manifold',\n",
       " 'metrics',\n",
       " 'model_selection',\n",
       " 'neighbors',\n",
       " 'os',\n",
       " 'preprocessing',\n",
       " 'random',\n",
       " 'set_config',\n",
       " 'setup_module',\n",
       " 'show_versions',\n",
       " 'svm',\n",
       " 'sys',\n",
       " 'tree',\n",
       " 'utils']"
      ]
     },
     "execution_count": 146,
     "metadata": {},
     "output_type": "execute_result"
    }
   ],
   "source": [
    "dir(sklearn)\n"
   ]
  },
  {
   "cell_type": "markdown",
   "id": "a0067f60-c4c2-40d5-a7a5-062c5f3e47c2",
   "metadata": {},
   "source": [
    "## Testing and training"
   ]
  },
  {
   "cell_type": "code",
   "execution_count": 228,
   "id": "aef5fe93-365b-437f-aec6-0116cdae0866",
   "metadata": {},
   "outputs": [
    {
     "data": {
      "text/html": [
       "<style>#sk-container-id-3 {\n",
       "  /* Definition of color scheme common for light and dark mode */\n",
       "  --sklearn-color-text: black;\n",
       "  --sklearn-color-line: gray;\n",
       "  /* Definition of color scheme for unfitted estimators */\n",
       "  --sklearn-color-unfitted-level-0: #fff5e6;\n",
       "  --sklearn-color-unfitted-level-1: #f6e4d2;\n",
       "  --sklearn-color-unfitted-level-2: #ffe0b3;\n",
       "  --sklearn-color-unfitted-level-3: chocolate;\n",
       "  /* Definition of color scheme for fitted estimators */\n",
       "  --sklearn-color-fitted-level-0: #f0f8ff;\n",
       "  --sklearn-color-fitted-level-1: #d4ebff;\n",
       "  --sklearn-color-fitted-level-2: #b3dbfd;\n",
       "  --sklearn-color-fitted-level-3: cornflowerblue;\n",
       "\n",
       "  /* Specific color for light theme */\n",
       "  --sklearn-color-text-on-default-background: var(--sg-text-color, var(--theme-code-foreground, var(--jp-content-font-color1, black)));\n",
       "  --sklearn-color-background: var(--sg-background-color, var(--theme-background, var(--jp-layout-color0, white)));\n",
       "  --sklearn-color-border-box: var(--sg-text-color, var(--theme-code-foreground, var(--jp-content-font-color1, black)));\n",
       "  --sklearn-color-icon: #696969;\n",
       "\n",
       "  @media (prefers-color-scheme: dark) {\n",
       "    /* Redefinition of color scheme for dark theme */\n",
       "    --sklearn-color-text-on-default-background: var(--sg-text-color, var(--theme-code-foreground, var(--jp-content-font-color1, white)));\n",
       "    --sklearn-color-background: var(--sg-background-color, var(--theme-background, var(--jp-layout-color0, #111)));\n",
       "    --sklearn-color-border-box: var(--sg-text-color, var(--theme-code-foreground, var(--jp-content-font-color1, white)));\n",
       "    --sklearn-color-icon: #878787;\n",
       "  }\n",
       "}\n",
       "\n",
       "#sk-container-id-3 {\n",
       "  color: var(--sklearn-color-text);\n",
       "}\n",
       "\n",
       "#sk-container-id-3 pre {\n",
       "  padding: 0;\n",
       "}\n",
       "\n",
       "#sk-container-id-3 input.sk-hidden--visually {\n",
       "  border: 0;\n",
       "  clip: rect(1px 1px 1px 1px);\n",
       "  clip: rect(1px, 1px, 1px, 1px);\n",
       "  height: 1px;\n",
       "  margin: -1px;\n",
       "  overflow: hidden;\n",
       "  padding: 0;\n",
       "  position: absolute;\n",
       "  width: 1px;\n",
       "}\n",
       "\n",
       "#sk-container-id-3 div.sk-dashed-wrapped {\n",
       "  border: 1px dashed var(--sklearn-color-line);\n",
       "  margin: 0 0.4em 0.5em 0.4em;\n",
       "  box-sizing: border-box;\n",
       "  padding-bottom: 0.4em;\n",
       "  background-color: var(--sklearn-color-background);\n",
       "}\n",
       "\n",
       "#sk-container-id-3 div.sk-container {\n",
       "  /* jupyter's `normalize.less` sets `[hidden] { display: none; }`\n",
       "     but bootstrap.min.css set `[hidden] { display: none !important; }`\n",
       "     so we also need the `!important` here to be able to override the\n",
       "     default hidden behavior on the sphinx rendered scikit-learn.org.\n",
       "     See: https://github.com/scikit-learn/scikit-learn/issues/21755 */\n",
       "  display: inline-block !important;\n",
       "  position: relative;\n",
       "}\n",
       "\n",
       "#sk-container-id-3 div.sk-text-repr-fallback {\n",
       "  display: none;\n",
       "}\n",
       "\n",
       "div.sk-parallel-item,\n",
       "div.sk-serial,\n",
       "div.sk-item {\n",
       "  /* draw centered vertical line to link estimators */\n",
       "  background-image: linear-gradient(var(--sklearn-color-text-on-default-background), var(--sklearn-color-text-on-default-background));\n",
       "  background-size: 2px 100%;\n",
       "  background-repeat: no-repeat;\n",
       "  background-position: center center;\n",
       "}\n",
       "\n",
       "/* Parallel-specific style estimator block */\n",
       "\n",
       "#sk-container-id-3 div.sk-parallel-item::after {\n",
       "  content: \"\";\n",
       "  width: 100%;\n",
       "  border-bottom: 2px solid var(--sklearn-color-text-on-default-background);\n",
       "  flex-grow: 1;\n",
       "}\n",
       "\n",
       "#sk-container-id-3 div.sk-parallel {\n",
       "  display: flex;\n",
       "  align-items: stretch;\n",
       "  justify-content: center;\n",
       "  background-color: var(--sklearn-color-background);\n",
       "  position: relative;\n",
       "}\n",
       "\n",
       "#sk-container-id-3 div.sk-parallel-item {\n",
       "  display: flex;\n",
       "  flex-direction: column;\n",
       "}\n",
       "\n",
       "#sk-container-id-3 div.sk-parallel-item:first-child::after {\n",
       "  align-self: flex-end;\n",
       "  width: 50%;\n",
       "}\n",
       "\n",
       "#sk-container-id-3 div.sk-parallel-item:last-child::after {\n",
       "  align-self: flex-start;\n",
       "  width: 50%;\n",
       "}\n",
       "\n",
       "#sk-container-id-3 div.sk-parallel-item:only-child::after {\n",
       "  width: 0;\n",
       "}\n",
       "\n",
       "/* Serial-specific style estimator block */\n",
       "\n",
       "#sk-container-id-3 div.sk-serial {\n",
       "  display: flex;\n",
       "  flex-direction: column;\n",
       "  align-items: center;\n",
       "  background-color: var(--sklearn-color-background);\n",
       "  padding-right: 1em;\n",
       "  padding-left: 1em;\n",
       "}\n",
       "\n",
       "\n",
       "/* Toggleable style: style used for estimator/Pipeline/ColumnTransformer box that is\n",
       "clickable and can be expanded/collapsed.\n",
       "- Pipeline and ColumnTransformer use this feature and define the default style\n",
       "- Estimators will overwrite some part of the style using the `sk-estimator` class\n",
       "*/\n",
       "\n",
       "/* Pipeline and ColumnTransformer style (default) */\n",
       "\n",
       "#sk-container-id-3 div.sk-toggleable {\n",
       "  /* Default theme specific background. It is overwritten whether we have a\n",
       "  specific estimator or a Pipeline/ColumnTransformer */\n",
       "  background-color: var(--sklearn-color-background);\n",
       "}\n",
       "\n",
       "/* Toggleable label */\n",
       "#sk-container-id-3 label.sk-toggleable__label {\n",
       "  cursor: pointer;\n",
       "  display: block;\n",
       "  width: 100%;\n",
       "  margin-bottom: 0;\n",
       "  padding: 0.5em;\n",
       "  box-sizing: border-box;\n",
       "  text-align: center;\n",
       "}\n",
       "\n",
       "#sk-container-id-3 label.sk-toggleable__label-arrow:before {\n",
       "  /* Arrow on the left of the label */\n",
       "  content: \"▸\";\n",
       "  float: left;\n",
       "  margin-right: 0.25em;\n",
       "  color: var(--sklearn-color-icon);\n",
       "}\n",
       "\n",
       "#sk-container-id-3 label.sk-toggleable__label-arrow:hover:before {\n",
       "  color: var(--sklearn-color-text);\n",
       "}\n",
       "\n",
       "/* Toggleable content - dropdown */\n",
       "\n",
       "#sk-container-id-3 div.sk-toggleable__content {\n",
       "  max-height: 0;\n",
       "  max-width: 0;\n",
       "  overflow: hidden;\n",
       "  text-align: left;\n",
       "  /* unfitted */\n",
       "  background-color: var(--sklearn-color-unfitted-level-0);\n",
       "}\n",
       "\n",
       "#sk-container-id-3 div.sk-toggleable__content.fitted {\n",
       "  /* fitted */\n",
       "  background-color: var(--sklearn-color-fitted-level-0);\n",
       "}\n",
       "\n",
       "#sk-container-id-3 div.sk-toggleable__content pre {\n",
       "  margin: 0.2em;\n",
       "  border-radius: 0.25em;\n",
       "  color: var(--sklearn-color-text);\n",
       "  /* unfitted */\n",
       "  background-color: var(--sklearn-color-unfitted-level-0);\n",
       "}\n",
       "\n",
       "#sk-container-id-3 div.sk-toggleable__content.fitted pre {\n",
       "  /* unfitted */\n",
       "  background-color: var(--sklearn-color-fitted-level-0);\n",
       "}\n",
       "\n",
       "#sk-container-id-3 input.sk-toggleable__control:checked~div.sk-toggleable__content {\n",
       "  /* Expand drop-down */\n",
       "  max-height: 200px;\n",
       "  max-width: 100%;\n",
       "  overflow: auto;\n",
       "}\n",
       "\n",
       "#sk-container-id-3 input.sk-toggleable__control:checked~label.sk-toggleable__label-arrow:before {\n",
       "  content: \"▾\";\n",
       "}\n",
       "\n",
       "/* Pipeline/ColumnTransformer-specific style */\n",
       "\n",
       "#sk-container-id-3 div.sk-label input.sk-toggleable__control:checked~label.sk-toggleable__label {\n",
       "  color: var(--sklearn-color-text);\n",
       "  background-color: var(--sklearn-color-unfitted-level-2);\n",
       "}\n",
       "\n",
       "#sk-container-id-3 div.sk-label.fitted input.sk-toggleable__control:checked~label.sk-toggleable__label {\n",
       "  background-color: var(--sklearn-color-fitted-level-2);\n",
       "}\n",
       "\n",
       "/* Estimator-specific style */\n",
       "\n",
       "/* Colorize estimator box */\n",
       "#sk-container-id-3 div.sk-estimator input.sk-toggleable__control:checked~label.sk-toggleable__label {\n",
       "  /* unfitted */\n",
       "  background-color: var(--sklearn-color-unfitted-level-2);\n",
       "}\n",
       "\n",
       "#sk-container-id-3 div.sk-estimator.fitted input.sk-toggleable__control:checked~label.sk-toggleable__label {\n",
       "  /* fitted */\n",
       "  background-color: var(--sklearn-color-fitted-level-2);\n",
       "}\n",
       "\n",
       "#sk-container-id-3 div.sk-label label.sk-toggleable__label,\n",
       "#sk-container-id-3 div.sk-label label {\n",
       "  /* The background is the default theme color */\n",
       "  color: var(--sklearn-color-text-on-default-background);\n",
       "}\n",
       "\n",
       "/* On hover, darken the color of the background */\n",
       "#sk-container-id-3 div.sk-label:hover label.sk-toggleable__label {\n",
       "  color: var(--sklearn-color-text);\n",
       "  background-color: var(--sklearn-color-unfitted-level-2);\n",
       "}\n",
       "\n",
       "/* Label box, darken color on hover, fitted */\n",
       "#sk-container-id-3 div.sk-label.fitted:hover label.sk-toggleable__label.fitted {\n",
       "  color: var(--sklearn-color-text);\n",
       "  background-color: var(--sklearn-color-fitted-level-2);\n",
       "}\n",
       "\n",
       "/* Estimator label */\n",
       "\n",
       "#sk-container-id-3 div.sk-label label {\n",
       "  font-family: monospace;\n",
       "  font-weight: bold;\n",
       "  display: inline-block;\n",
       "  line-height: 1.2em;\n",
       "}\n",
       "\n",
       "#sk-container-id-3 div.sk-label-container {\n",
       "  text-align: center;\n",
       "}\n",
       "\n",
       "/* Estimator-specific */\n",
       "#sk-container-id-3 div.sk-estimator {\n",
       "  font-family: monospace;\n",
       "  border: 1px dotted var(--sklearn-color-border-box);\n",
       "  border-radius: 0.25em;\n",
       "  box-sizing: border-box;\n",
       "  margin-bottom: 0.5em;\n",
       "  /* unfitted */\n",
       "  background-color: var(--sklearn-color-unfitted-level-0);\n",
       "}\n",
       "\n",
       "#sk-container-id-3 div.sk-estimator.fitted {\n",
       "  /* fitted */\n",
       "  background-color: var(--sklearn-color-fitted-level-0);\n",
       "}\n",
       "\n",
       "/* on hover */\n",
       "#sk-container-id-3 div.sk-estimator:hover {\n",
       "  /* unfitted */\n",
       "  background-color: var(--sklearn-color-unfitted-level-2);\n",
       "}\n",
       "\n",
       "#sk-container-id-3 div.sk-estimator.fitted:hover {\n",
       "  /* fitted */\n",
       "  background-color: var(--sklearn-color-fitted-level-2);\n",
       "}\n",
       "\n",
       "/* Specification for estimator info (e.g. \"i\" and \"?\") */\n",
       "\n",
       "/* Common style for \"i\" and \"?\" */\n",
       "\n",
       ".sk-estimator-doc-link,\n",
       "a:link.sk-estimator-doc-link,\n",
       "a:visited.sk-estimator-doc-link {\n",
       "  float: right;\n",
       "  font-size: smaller;\n",
       "  line-height: 1em;\n",
       "  font-family: monospace;\n",
       "  background-color: var(--sklearn-color-background);\n",
       "  border-radius: 1em;\n",
       "  height: 1em;\n",
       "  width: 1em;\n",
       "  text-decoration: none !important;\n",
       "  margin-left: 1ex;\n",
       "  /* unfitted */\n",
       "  border: var(--sklearn-color-unfitted-level-1) 1pt solid;\n",
       "  color: var(--sklearn-color-unfitted-level-1);\n",
       "}\n",
       "\n",
       ".sk-estimator-doc-link.fitted,\n",
       "a:link.sk-estimator-doc-link.fitted,\n",
       "a:visited.sk-estimator-doc-link.fitted {\n",
       "  /* fitted */\n",
       "  border: var(--sklearn-color-fitted-level-1) 1pt solid;\n",
       "  color: var(--sklearn-color-fitted-level-1);\n",
       "}\n",
       "\n",
       "/* On hover */\n",
       "div.sk-estimator:hover .sk-estimator-doc-link:hover,\n",
       ".sk-estimator-doc-link:hover,\n",
       "div.sk-label-container:hover .sk-estimator-doc-link:hover,\n",
       ".sk-estimator-doc-link:hover {\n",
       "  /* unfitted */\n",
       "  background-color: var(--sklearn-color-unfitted-level-3);\n",
       "  color: var(--sklearn-color-background);\n",
       "  text-decoration: none;\n",
       "}\n",
       "\n",
       "div.sk-estimator.fitted:hover .sk-estimator-doc-link.fitted:hover,\n",
       ".sk-estimator-doc-link.fitted:hover,\n",
       "div.sk-label-container:hover .sk-estimator-doc-link.fitted:hover,\n",
       ".sk-estimator-doc-link.fitted:hover {\n",
       "  /* fitted */\n",
       "  background-color: var(--sklearn-color-fitted-level-3);\n",
       "  color: var(--sklearn-color-background);\n",
       "  text-decoration: none;\n",
       "}\n",
       "\n",
       "/* Span, style for the box shown on hovering the info icon */\n",
       ".sk-estimator-doc-link span {\n",
       "  display: none;\n",
       "  z-index: 9999;\n",
       "  position: relative;\n",
       "  font-weight: normal;\n",
       "  right: .2ex;\n",
       "  padding: .5ex;\n",
       "  margin: .5ex;\n",
       "  width: min-content;\n",
       "  min-width: 20ex;\n",
       "  max-width: 50ex;\n",
       "  color: var(--sklearn-color-text);\n",
       "  box-shadow: 2pt 2pt 4pt #999;\n",
       "  /* unfitted */\n",
       "  background: var(--sklearn-color-unfitted-level-0);\n",
       "  border: .5pt solid var(--sklearn-color-unfitted-level-3);\n",
       "}\n",
       "\n",
       ".sk-estimator-doc-link.fitted span {\n",
       "  /* fitted */\n",
       "  background: var(--sklearn-color-fitted-level-0);\n",
       "  border: var(--sklearn-color-fitted-level-3);\n",
       "}\n",
       "\n",
       ".sk-estimator-doc-link:hover span {\n",
       "  display: block;\n",
       "}\n",
       "\n",
       "/* \"?\"-specific style due to the `<a>` HTML tag */\n",
       "\n",
       "#sk-container-id-3 a.estimator_doc_link {\n",
       "  float: right;\n",
       "  font-size: 1rem;\n",
       "  line-height: 1em;\n",
       "  font-family: monospace;\n",
       "  background-color: var(--sklearn-color-background);\n",
       "  border-radius: 1rem;\n",
       "  height: 1rem;\n",
       "  width: 1rem;\n",
       "  text-decoration: none;\n",
       "  /* unfitted */\n",
       "  color: var(--sklearn-color-unfitted-level-1);\n",
       "  border: var(--sklearn-color-unfitted-level-1) 1pt solid;\n",
       "}\n",
       "\n",
       "#sk-container-id-3 a.estimator_doc_link.fitted {\n",
       "  /* fitted */\n",
       "  border: var(--sklearn-color-fitted-level-1) 1pt solid;\n",
       "  color: var(--sklearn-color-fitted-level-1);\n",
       "}\n",
       "\n",
       "/* On hover */\n",
       "#sk-container-id-3 a.estimator_doc_link:hover {\n",
       "  /* unfitted */\n",
       "  background-color: var(--sklearn-color-unfitted-level-3);\n",
       "  color: var(--sklearn-color-background);\n",
       "  text-decoration: none;\n",
       "}\n",
       "\n",
       "#sk-container-id-3 a.estimator_doc_link.fitted:hover {\n",
       "  /* fitted */\n",
       "  background-color: var(--sklearn-color-fitted-level-3);\n",
       "}\n",
       "</style><div id=\"sk-container-id-3\" class=\"sk-top-container\"><div class=\"sk-text-repr-fallback\"><pre>LogisticRegression()</pre><b>In a Jupyter environment, please rerun this cell to show the HTML representation or trust the notebook. <br />On GitHub, the HTML representation is unable to render, please try loading this page with nbviewer.org.</b></div><div class=\"sk-container\" hidden><div class=\"sk-item\"><div class=\"sk-estimator fitted sk-toggleable\"><input class=\"sk-toggleable__control sk-hidden--visually\" id=\"sk-estimator-id-3\" type=\"checkbox\" checked><label for=\"sk-estimator-id-3\" class=\"sk-toggleable__label fitted sk-toggleable__label-arrow fitted\">&nbsp;&nbsp;LogisticRegression<a class=\"sk-estimator-doc-link fitted\" rel=\"noreferrer\" target=\"_blank\" href=\"https://scikit-learn.org/1.4/modules/generated/sklearn.linear_model.LogisticRegression.html\">?<span>Documentation for LogisticRegression</span></a><span class=\"sk-estimator-doc-link fitted\">i<span>Fitted</span></span></label><div class=\"sk-toggleable__content fitted\"><pre>LogisticRegression()</pre></div> </div></div></div></div>"
      ],
      "text/plain": [
       "LogisticRegression()"
      ]
     },
     "execution_count": 228,
     "metadata": {},
     "output_type": "execute_result"
    }
   ],
   "source": [
    "dir(sklearn.linear_model)\n",
    "from sklearn.linear_model import LogisticRegression\n",
    "from sklearn.model_selection import train_test_split\n",
    "x_train,x_test,y_train,y_test=train_test_split(x,y,random_state=0)\n",
    "logistic_reg=LogisticRegression()\n",
    "logistic_reg.fit(x_train,y_train)\n",
    "\n"
   ]
  },
  {
   "cell_type": "markdown",
   "id": "76de12a9-d2dd-4cd2-add6-1d421bbc8891",
   "metadata": {},
   "source": [
    "Testing the rand score"
   ]
  },
  {
   "cell_type": "code",
   "execution_count": 224,
   "id": "34acb451-9c86-4dc6-ac8c-700211e15466",
   "metadata": {},
   "outputs": [
    {
     "name": "stdout",
     "output_type": "stream",
     "text": [
      "The R2 of train is :0.76\n"
     ]
    }
   ],
   "source": [
    "print('The R2 of train is :{:.2f}'.format(logistic_reg.score(x_train,y_train)))"
   ]
  },
  {
   "cell_type": "code",
   "execution_count": 226,
   "id": "1ec46762-5d4b-4df8-9d7e-46fe2d5fc299",
   "metadata": {},
   "outputs": [
    {
     "name": "stdout",
     "output_type": "stream",
     "text": [
      "The R2 of test is :0.78\n"
     ]
    }
   ],
   "source": [
    "print('The R2 of test is :{:.2f}'.format(logistic_reg.score(x_test,y_test)))"
   ]
  },
  {
   "cell_type": "markdown",
   "id": "cd78b61a-a60e-42c8-839b-15a67b0ddb5a",
   "metadata": {},
   "source": [
    "this is a good model(78% accuracy is good)"
   ]
  },
  {
   "cell_type": "code",
   "execution_count": null,
   "id": "46f4b04f-9dcf-4ad1-81a0-5cbd835f36b4",
   "metadata": {},
   "outputs": [],
   "source": [
    "Health_data.column"
   ]
  },
  {
   "cell_type": "code",
   "execution_count": 154,
   "id": "31889ee2-ae7f-4134-869a-fde4943af8b0",
   "metadata": {},
   "outputs": [
    {
     "data": {
      "text/plain": [
       "array([1, 0, 0, 1, 0, 0, 1, 1, 0, 0, 1, 1, 0, 0, 0, 0, 1, 0, 0, 0, 1, 0,\n",
       "       0, 0, 0, 0, 0, 1, 0, 0, 0, 0, 0, 0, 0, 1, 0, 0, 0, 1, 0, 0, 0, 1,\n",
       "       1, 0, 0, 0, 0, 0, 0, 0, 1, 1, 0, 0, 0, 1, 0, 0, 1, 1, 0, 0, 1, 1,\n",
       "       1, 0, 0, 0, 0, 0, 0, 1, 1, 0, 0, 1, 0, 0, 0, 0, 0, 0, 0, 0, 0, 0,\n",
       "       1, 0, 0, 0, 0, 0, 1, 0, 0, 1, 1, 0, 0, 0, 0, 0, 1, 0, 0, 0, 0, 1,\n",
       "       0, 0, 1, 0, 1, 1, 0, 1, 0, 1, 0, 0, 0, 0, 0, 0, 0, 0, 0, 0, 0, 0,\n",
       "       0, 1, 0, 0, 0, 0, 0, 0, 0, 1, 0, 0, 0, 0, 0, 0, 0, 0, 0, 1, 0, 0,\n",
       "       1, 0, 1, 0, 0, 1, 1, 1, 0, 0, 1, 0, 0, 0, 0, 0, 0, 0, 0, 0, 1, 0,\n",
       "       0, 0, 0, 0, 0, 1, 0, 1, 0, 0, 0, 0, 0, 0, 0, 0], dtype=int64)"
      ]
     },
     "execution_count": 154,
     "metadata": {},
     "output_type": "execute_result"
    }
   ],
   "source": [
    "logistic_reg.predict(x_test)"
   ]
  },
  {
   "cell_type": "code",
   "execution_count": null,
   "id": "1f0398d4-d6bf-4e65-97a6-98cfd0c7ddab",
   "metadata": {},
   "outputs": [],
   "source": [
    "logistic_reg.predict([1,"
   ]
  }
 ],
 "metadata": {
  "kernelspec": {
   "display_name": "Python 3 (ipykernel)",
   "language": "python",
   "name": "python3"
  },
  "language_info": {
   "codemirror_mode": {
    "name": "ipython",
    "version": 3
   },
   "file_extension": ".py",
   "mimetype": "text/x-python",
   "name": "python",
   "nbconvert_exporter": "python",
   "pygments_lexer": "ipython3",
   "version": "3.12.4"
  }
 },
 "nbformat": 4,
 "nbformat_minor": 5
}
