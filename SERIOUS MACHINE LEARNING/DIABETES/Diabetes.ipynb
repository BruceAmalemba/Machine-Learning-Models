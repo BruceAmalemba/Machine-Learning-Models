{
 "cells": [
  {
   "cell_type": "markdown",
   "id": "ad11825e-2f3d-4dc5-bc8f-fdd5c955e400",
   "metadata": {},
   "source": [
    "## Importing packages"
   ]
  },
  {
   "cell_type": "code",
   "execution_count": 4,
   "id": "0ee318e7-d05c-472b-99fa-1e662db72800",
   "metadata": {},
   "outputs": [],
   "source": [
    "import pandas as pd \n",
    "import numpy as np \n",
    "from matplotlib import pyplot as pyp "
   ]
  },
  {
   "cell_type": "markdown",
   "id": "cf00ac7f-f102-408b-95c0-79018244d8d4",
   "metadata": {},
   "source": [
    "## importing my Health Diabetes Data"
   ]
  },
  {
   "cell_type": "code",
   "execution_count": 6,
   "id": "91b23d39-0ccb-4a61-98ae-b9393d06af2b",
   "metadata": {},
   "outputs": [],
   "source": [
    "Diabetes_data=pd.read_csv(\"C:/Users/Bachelor_001/OneDrive/Desktop/PD/diabetes.csv\")\n",
    "pd.set_option(\"display.max_rows\",None)"
   ]
  },
  {
   "cell_type": "markdown",
   "id": "3c940a2f-6887-4a76-8169-b7a3e59afcb8",
   "metadata": {},
   "source": [
    "## investigating my data"
   ]
  },
  {
   "cell_type": "code",
   "execution_count": 8,
   "id": "8a763cd0-a8df-4ae0-9fa1-b25e92883fb3",
   "metadata": {},
   "outputs": [
    {
     "name": "stdout",
     "output_type": "stream",
     "text": [
      "<class 'pandas.core.frame.DataFrame'>\n",
      "RangeIndex: 768 entries, 0 to 767\n",
      "Data columns (total 9 columns):\n",
      " #   Column                    Non-Null Count  Dtype  \n",
      "---  ------                    --------------  -----  \n",
      " 0   Pregnancies               768 non-null    int64  \n",
      " 1   Glucose                   768 non-null    int64  \n",
      " 2   BloodPressure             768 non-null    int64  \n",
      " 3   SkinThickness             768 non-null    int64  \n",
      " 4   Insulin                   768 non-null    int64  \n",
      " 5   BMI                       768 non-null    float64\n",
      " 6   DiabetesPedigreeFunction  768 non-null    float64\n",
      " 7   Age                       768 non-null    int64  \n",
      " 8   Outcome                   768 non-null    int64  \n",
      "dtypes: float64(2), int64(7)\n",
      "memory usage: 54.1 KB\n"
     ]
    }
   ],
   "source": [
    "Diabetes_data.info()"
   ]
  },
  {
   "cell_type": "markdown",
   "id": "9abf8180-ff0a-415d-872e-c793a24e6541",
   "metadata": {},
   "source": [
    "## investigating Glucose"
   ]
  },
  {
   "cell_type": "code",
   "execution_count": 10,
   "id": "70ceaa23-b7cd-4762-b578-c5128ac436d9",
   "metadata": {},
   "outputs": [
    {
     "data": {
      "text/html": [
       "<div>\n",
       "<style scoped>\n",
       "    .dataframe tbody tr th:only-of-type {\n",
       "        vertical-align: middle;\n",
       "    }\n",
       "\n",
       "    .dataframe tbody tr th {\n",
       "        vertical-align: top;\n",
       "    }\n",
       "\n",
       "    .dataframe thead th {\n",
       "        text-align: right;\n",
       "    }\n",
       "</style>\n",
       "<table border=\"1\" class=\"dataframe\">\n",
       "  <thead>\n",
       "    <tr style=\"text-align: right;\">\n",
       "      <th></th>\n",
       "      <th>Pregnancies</th>\n",
       "      <th>Glucose</th>\n",
       "      <th>BloodPressure</th>\n",
       "      <th>SkinThickness</th>\n",
       "      <th>Insulin</th>\n",
       "      <th>BMI</th>\n",
       "      <th>DiabetesPedigreeFunction</th>\n",
       "      <th>Age</th>\n",
       "      <th>Outcome</th>\n",
       "    </tr>\n",
       "  </thead>\n",
       "  <tbody>\n",
       "    <tr>\n",
       "      <th>0</th>\n",
       "      <td>6</td>\n",
       "      <td>148</td>\n",
       "      <td>72</td>\n",
       "      <td>35</td>\n",
       "      <td>0</td>\n",
       "      <td>33.6</td>\n",
       "      <td>0.627</td>\n",
       "      <td>50</td>\n",
       "      <td>1</td>\n",
       "    </tr>\n",
       "    <tr>\n",
       "      <th>1</th>\n",
       "      <td>1</td>\n",
       "      <td>85</td>\n",
       "      <td>66</td>\n",
       "      <td>29</td>\n",
       "      <td>0</td>\n",
       "      <td>26.6</td>\n",
       "      <td>0.351</td>\n",
       "      <td>31</td>\n",
       "      <td>0</td>\n",
       "    </tr>\n",
       "    <tr>\n",
       "      <th>2</th>\n",
       "      <td>8</td>\n",
       "      <td>183</td>\n",
       "      <td>64</td>\n",
       "      <td>0</td>\n",
       "      <td>0</td>\n",
       "      <td>23.3</td>\n",
       "      <td>0.672</td>\n",
       "      <td>32</td>\n",
       "      <td>1</td>\n",
       "    </tr>\n",
       "    <tr>\n",
       "      <th>3</th>\n",
       "      <td>1</td>\n",
       "      <td>89</td>\n",
       "      <td>66</td>\n",
       "      <td>23</td>\n",
       "      <td>94</td>\n",
       "      <td>28.1</td>\n",
       "      <td>0.167</td>\n",
       "      <td>21</td>\n",
       "      <td>0</td>\n",
       "    </tr>\n",
       "    <tr>\n",
       "      <th>4</th>\n",
       "      <td>0</td>\n",
       "      <td>137</td>\n",
       "      <td>40</td>\n",
       "      <td>35</td>\n",
       "      <td>168</td>\n",
       "      <td>43.1</td>\n",
       "      <td>2.288</td>\n",
       "      <td>33</td>\n",
       "      <td>1</td>\n",
       "    </tr>\n",
       "  </tbody>\n",
       "</table>\n",
       "</div>"
      ],
      "text/plain": [
       "   Pregnancies  Glucose  BloodPressure  SkinThickness  Insulin   BMI  \\\n",
       "0            6      148             72             35        0  33.6   \n",
       "1            1       85             66             29        0  26.6   \n",
       "2            8      183             64              0        0  23.3   \n",
       "3            1       89             66             23       94  28.1   \n",
       "4            0      137             40             35      168  43.1   \n",
       "\n",
       "   DiabetesPedigreeFunction  Age  Outcome  \n",
       "0                     0.627   50        1  \n",
       "1                     0.351   31        0  \n",
       "2                     0.672   32        1  \n",
       "3                     0.167   21        0  \n",
       "4                     2.288   33        1  "
      ]
     },
     "execution_count": 10,
     "metadata": {},
     "output_type": "execute_result"
    }
   ],
   "source": [
    "Diabetes_data.head()"
   ]
  },
  {
   "cell_type": "code",
   "execution_count": 11,
   "id": "73b402d3-715a-455e-a54e-6cfcc5058c82",
   "metadata": {},
   "outputs": [
    {
     "name": "stdout",
     "output_type": "stream",
     "text": [
      "<class 'pandas.core.series.Series'>\n",
      "RangeIndex: 768 entries, 0 to 767\n",
      "Series name: Glucose\n",
      "Non-Null Count  Dtype\n",
      "--------------  -----\n",
      "768 non-null    int64\n",
      "dtypes: int64(1)\n",
      "memory usage: 6.1 KB\n"
     ]
    },
    {
     "data": {
      "text/plain": [
       "<Axes: >"
      ]
     },
     "execution_count": 11,
     "metadata": {},
     "output_type": "execute_result"
    },
    {
     "data": {
      "image/png": "[encoded data removed]",
      "text/plain": [
       "<Figure size 640x480 with 1 Axes>"
      ]
     },
     "metadata": {},
     "output_type": "display_data"
    }
   ],
   "source": [
    "Diabetes_data['Glucose'].info()\n",
    "Diabetes_data['Glucose'].unique()\n",
    "Diabetes_data.boxplot(column ='Glucose')\n",
    "\n"
   ]
  },
  {
   "cell_type": "markdown",
   "id": "759dbe53-4162-462a-8b47-e3b1e1af9c71",
   "metadata": {},
   "source": [
    "Glucose has one outlier"
   ]
  },
  {
   "cell_type": "code",
   "execution_count": 13,
   "id": "375c95c7-b5f8-485e-952f-0ca61712531a",
   "metadata": {},
   "outputs": [
    {
     "data": {
      "text/plain": [
       "<Axes: >"
      ]
     },
     "execution_count": 13,
     "metadata": {},
     "output_type": "execute_result"
    }
   ],
   "source": [
    "Diabetes_data['Glucose'].hist(bins=20)\n"
   ]
  },
  {
   "cell_type": "code",
   "execution_count": 14,
   "id": "fb802d8c-7a4a-43ac-986e-72a32c0c0be8",
   "metadata": {},
   "outputs": [
    {
     "ename": "AttributeError",
     "evalue": "'Series' object has no attribute 'boxplot'",
     "output_type": "error",
     "traceback": [
      "\u001b[31m---------------------------------------------------------------------------\u001b[39m",
      "\u001b[31mAttributeError\u001b[39m                            Traceback (most recent call last)",
      "\u001b[32m~\\AppData\\Local\\Temp\\ipykernel_22116\\1035490652.py\u001b[39m in \u001b[36m?\u001b[39m\u001b[34m()\u001b[39m\n\u001b[32m----> \u001b[39m\u001b[32m1\u001b[39m Diabetes_data[\u001b[33m'Glucose'\u001b[39m].boxplot()\n",
      "\u001b[32m~\\anaconda3\\Lib\\site-packages\\pandas\\core\\generic.py\u001b[39m in \u001b[36m?\u001b[39m\u001b[34m(self, name)\u001b[39m\n\u001b[32m   6295\u001b[39m             \u001b[38;5;28;01mand\u001b[39;00m name \u001b[38;5;28;01mnot\u001b[39;00m \u001b[38;5;28;01min\u001b[39;00m self._accessors\n\u001b[32m   6296\u001b[39m             \u001b[38;5;28;01mand\u001b[39;00m self._info_axis._can_hold_identifiers_and_holds_name(name)\n\u001b[32m   6297\u001b[39m         ):\n\u001b[32m   6298\u001b[39m             \u001b[38;5;28;01mreturn\u001b[39;00m self[name]\n\u001b[32m-> \u001b[39m\u001b[32m6299\u001b[39m         \u001b[38;5;28;01mreturn\u001b[39;00m object.__getattribute__(self, name)\n",
      "\u001b[31mAttributeError\u001b[39m: 'Series' object has no attribute 'boxplot'"
     ]
    }
   ],
   "source": [
    "Diabetes_data.boxplot()"
   ]
  },
  {
   "cell_type": "markdown",
   "id": "254ff596-697c-48bb-b54a-8dc19f7a0167",
   "metadata": {},
   "source": [
    "## investigating pregnancies"
   ]
  },
  {
   "cell_type": "code",
   "execution_count": null,
   "id": "7d2e8b13-6240-4b4c-895b-026e9ed45c67",
   "metadata": {},
   "outputs": [],
   "source": [
    "Diabetes_data['Pregnancies'].info()\n",
    "Diabetes_data['Pregnancies'].unique()\n",
    "Diabetes_data['Pregnancies'].isna().sum()\n",
    "pyp.boxplot(Diabetes_data['Pregnancies'])\n",
    "Diabetes_data.boxplot(column ='Pregnancies')\n",
    "\n",
    "\n",
    "\n"
   ]
  },
  {
   "cell_type": "code",
   "execution_count": null,
   "id": "a3ddaa4d-0bc0-490f-a302-33881237e1af",
   "metadata": {},
   "outputs": [],
   "source": [
    "Diabetes_data['BloodPressure'].unique()"
   ]
  },
  {
   "cell_type": "code",
   "execution_count": null,
   "id": "d85c55f5-3f47-4a85-b3ff-e2dad4c94de4",
   "metadata": {},
   "outputs": [],
   "source": [
    "Diabetes_data.head()"
   ]
  },
  {
   "cell_type": "code",
   "execution_count": null,
   "id": "5c41ccb2-a301-43e1-ac7f-d8b550df23dc",
   "metadata": {},
   "outputs": [],
   "source": [
    "Diabetes_data['Outcome'].info()\n",
    "Diabetes_data['Outcome'].unique()\n",
    "Diabetes_data['Outcome']=Diabetes_data['Outcome'].astype('category')\n",
    "Diabetes_data['Outcome'].info()\n",
    "Diabetes_data['Outcome'].head()"
   ]
  },
  {
   "cell_type": "code",
   "execution_count": null,
   "id": "334b98d1-c34b-4b9a-a3db-61dc8679873d",
   "metadata": {},
   "outputs": [],
   "source": [
    "Diabetes_data.sample(20)\n",
    "Diabetes_data.isna().sum()\n",
    "Diabetes_data.columns"
   ]
  },
  {
   "cell_type": "code",
   "execution_count": null,
   "id": "216b3a36-da0d-4582-9cf1-bce1947463a6",
   "metadata": {},
   "outputs": [],
   "source": [
    "Diabetes_data=Diabetes_data.drop('Pregnancies', axis=1)\n",
    "Diabetes_data.head()\n",
    "Diabetes_data.info()\n"
   ]
  }
 ],
 "metadata": {
  "kernelspec": {
   "display_name": "Python 3 (ipykernel)",
   "language": "python",
   "name": "python3"
  },
  "language_info": {
   "codemirror_mode": {
    "name": "ipython",
    "version": 3
   },
   "file_extension": ".py",
   "mimetype": "text/x-python",
   "name": "python",
   "nbconvert_exporter": "python",
   "pygments_lexer": "ipython3",
   "version": "3.12.4"
  }
 },
 "nbformat": 4,
 "nbformat_minor": 5
}
